{
 "cells": [
  {
   "cell_type": "markdown",
   "id": "48495a0a",
   "metadata": {},
   "source": [
    "# <center>\n",
    "\n",
    "<img src=https://www.cct.ie/wp-content/uploads/CCT_Logo_New_Aug_17-2.jpg width=600>\n",
    "\n",
    " </center>\n",
    "  <center>\n",
    " \n",
    " <div style=\"text-align: center\"> <span style=\"font-size: 15x;\"> <b> Semester 1  </b> </span></div>\n",
    "<div style=\"text-align: center\"> <span style=\"font-size: 15px;\"> <b> MSC_DA_CA2  </b> </span></div>\n",
    "\n",
    "<div style=\"text-align: center\"> <span style=\"font-size:15px;\"><b> Continuous Assessment  </b> </span></div>\n",
    "    \n",
    "<div style=\"text-align: center\"> <span style=\"font-size:15px;\"><b>Student: </b> </span></div>\n",
    "    \n",
    "<div style=\"text-align: center\"> <span style=\"font-size: 14px;\"><b> sba23304 - Valeria Valdivia </b> </span></div>\n"
   ]
  },
  {
   "cell_type": "markdown",
   "id": "1174e4e5",
   "metadata": {},
   "source": [
    "# 1. Importing Libraries"
   ]
  },
  {
   "cell_type": "code",
   "execution_count": 1,
   "id": "06006ab1",
   "metadata": {},
   "outputs": [],
   "source": [
    "import numpy as np                                   # is used for linear algebra.\n",
    "import pandas as pd                                  # for data processing, CSV file.\n",
    "import matplotlib.pyplot as plt                      # for creating static, animated, and interactive visualizations.\n",
    "%matplotlib inline                    \n",
    "import seaborn as sns                                # for making statistical graphics.\n",
    "sns.set()   \n",
    "from sklearn import metrics                          # to evaluate machine learning algorithms.\n",
    "from sklearn.decomposition import PCA, TruncatedSVD  # to transform object that learns components in its fit method, and can be used on new data to \n",
    "                                                     # project it on these components.\n",
    "import warnings\n",
    "warnings.filterwarnings('ignore')                    # to controls whether warnings are ignored, displayed, or turned into errors."
   ]
  },
  {
   "cell_type": "markdown",
   "id": "2566c832",
   "metadata": {},
   "source": [
    "# 2. Loading data"
   ]
  },
  {
   "cell_type": "markdown",
   "id": "29711973",
   "metadata": {},
   "source": [
    "In the upcoming session, we will import the raw dataset with the aim of extracting pertinent information. This process involves the identification of Predictor (Input) and Target (Output) variables, as elucidated by Ray in 2019. To facilitate this analysis, we will leverage the capabilities of a DataFrame—a versatile 2-dimensional data structure proficient in storing diverse data types, such as characters, integers, floating-point values, factors, and more, within its columns. This conceptualization of data organization is a pivotal contribution from the pandas development team in 2020.\n",
    "\n",
    "But I create another columms to separate the the numberal and the categoricl value in the for the year to separate 2023 jULY AND column and filter the data for the years 2001 to 2023, and using only the numerical value in the columm \"Year\".\n",
    "\n",
    "\n"
   ]
  },
  {
   "cell_type": "code",
   "execution_count": 2,
   "id": "1e15120b",
   "metadata": {},
   "outputs": [],
   "source": [
    "ireland_df = pd.read_csv(\"VehiclesLicensedfortheFirstTimeIreland.csv\")"
   ]
  },
  {
   "cell_type": "code",
   "execution_count": 3,
   "id": "dc30488c",
   "metadata": {},
   "outputs": [
    {
     "name": "stdout",
     "output_type": "stream",
     "text": [
      "First few rows of the Ireland dataset:\n",
      "                        STATISTIC Label       Year      Taxation Class  \\\n",
      "0  Vehicles Licensed for the First Time  1996 July        All Vehicles   \n",
      "1  Vehicles Licensed for the First Time  1996 July        New Vehicles   \n",
      "2  Vehicles Licensed for the First Time  1996 July    New Private Cars   \n",
      "3  Vehicles Licensed for the First Time  1996 July  New Goods Vehicles   \n",
      "4  Vehicles Licensed for the First Time  1996 July        New Tractors   \n",
      "\n",
      "     UNIT    VALUE  \n",
      "0  Number  18011.0  \n",
      "1  Number  13169.0  \n",
      "2  Number  10959.0  \n",
      "3  Number   1430.0  \n",
      "4  Number    172.0  \n",
      "\n",
      "Last few rows of the Ireland dataset:\n",
      "                           STATISTIC Label           Year  \\\n",
      "4601  Vehicles Licensed for the First Time  2023 November   \n",
      "4602  Vehicles Licensed for the First Time  2023 November   \n",
      "4603  Vehicles Licensed for the First Time  2023 November   \n",
      "4604  Vehicles Licensed for the First Time  2023 November   \n",
      "4605  Vehicles Licensed for the First Time  2023 November   \n",
      "\n",
      "                 Taxation Class    UNIT   VALUE  \n",
      "4601    Secondhand Private Cars  Number  4672.0  \n",
      "4602  Secondhand Goods Vehicles  Number   875.0  \n",
      "4603        Secondhand Tractors  Number   165.0  \n",
      "4604  Secondhand Other Vehicles  Number   503.0  \n",
      "4605    Secondhand Motor Cycles  Number   201.0  \n"
     ]
    }
   ],
   "source": [
    "# Display the first few rows of the Ireland dataset\n",
    "print(\"First few rows of the Ireland dataset:\")\n",
    "print(ireland_df.head())\n",
    "\n",
    "# Display the last few rows of the Ireland dataset\n",
    "print(\"\\nLast few rows of the Ireland dataset:\")\n",
    "print(ireland_df.tail())\n",
    "\n"
   ]
  },
  {
   "cell_type": "markdown",
   "id": "0778dcce",
   "metadata": {},
   "source": [
    "# Data Cleaning and Structuring:"
   ]
  },
  {
   "cell_type": "markdown",
   "id": "5c68f264",
   "metadata": {},
   "source": [
    "Extracting Year and Month:\n",
    "\n",
    "Since we have a 'Year' column that includes both the year and month, consider extracting this information into separate columns. This can be useful for time-based analysis."
   ]
  },
  {
   "cell_type": "code",
   "execution_count": 4,
   "id": "f823f62e",
   "metadata": {},
   "outputs": [
    {
     "name": "stdout",
     "output_type": "stream",
     "text": [
      "First few rows of the Ireland dataset:\n",
      "                        STATISTIC Label       Year      Taxation Class  \\\n",
      "0  Vehicles Licensed for the First Time  1996 July        All Vehicles   \n",
      "1  Vehicles Licensed for the First Time  1996 July        New Vehicles   \n",
      "2  Vehicles Licensed for the First Time  1996 July    New Private Cars   \n",
      "3  Vehicles Licensed for the First Time  1996 July  New Goods Vehicles   \n",
      "4  Vehicles Licensed for the First Time  1996 July        New Tractors   \n",
      "\n",
      "     UNIT    VALUE  \n",
      "0  Number  18011.0  \n",
      "1  Number  13169.0  \n",
      "2  Number  10959.0  \n",
      "3  Number   1430.0  \n",
      "4  Number    172.0  \n",
      "\n",
      "Last few rows of the Ireland dataset:\n",
      "                           STATISTIC Label           Year  \\\n",
      "4601  Vehicles Licensed for the First Time  2023 November   \n",
      "4602  Vehicles Licensed for the First Time  2023 November   \n",
      "4603  Vehicles Licensed for the First Time  2023 November   \n",
      "4604  Vehicles Licensed for the First Time  2023 November   \n",
      "4605  Vehicles Licensed for the First Time  2023 November   \n",
      "\n",
      "                 Taxation Class    UNIT   VALUE  \n",
      "4601    Secondhand Private Cars  Number  4672.0  \n",
      "4602  Secondhand Goods Vehicles  Number   875.0  \n",
      "4603        Secondhand Tractors  Number   165.0  \n",
      "4604  Secondhand Other Vehicles  Number   503.0  \n",
      "4605    Secondhand Motor Cycles  Number   201.0  \n"
     ]
    }
   ],
   "source": [
    "# Display the first few rows of the Ireland dataset\n",
    "print(\"First few rows of the Ireland dataset:\")\n",
    "print(ireland_df.head())\n",
    "\n",
    "# Display the last few rows of the Ireland dataset\n",
    "print(\"\\nLast few rows of the Ireland dataset:\")\n",
    "print(ireland_df.tail())\n",
    "\n",
    "\n"
   ]
  },
  {
   "cell_type": "markdown",
   "id": "acd5791b",
   "metadata": {},
   "source": [
    "I will use the drop method in Pandas to remove the 'Year_Cat' column."
   ]
  },
  {
   "cell_type": "markdown",
   "id": "447b29aa",
   "metadata": {},
   "source": [
    "# Handling Redundant Columns:\n",
    "\n",
    "Since we have redundant or unnecessary columns, consider dropping them to simplify the dataset."
   ]
  },
  {
   "cell_type": "markdown",
   "id": "0c56b70e",
   "metadata": {},
   "source": [
    "The inplace=True parameter ensures that the change is applied directly to your DataFrame, and it will not return a new DataFrame."
   ]
  },
  {
   "cell_type": "markdown",
   "id": "e11b60f9",
   "metadata": {},
   "source": [
    "# Filtering Data:\n",
    "\n",
    "We will be interested in the data from 2001 to 2023, filter the DataFrame accordingly."
   ]
  },
  {
   "cell_type": "markdown",
   "id": "736dacb6",
   "metadata": {},
   "source": [
    "Convert Data Types:\n",
    "\n",
    "We need to ensure that the data types of columns are appropriate. For example, if 'Year_Num' is a string, convert it to a numeric type if needed."
   ]
  },
  {
   "cell_type": "code",
   "execution_count": 5,
   "id": "ffcc4562",
   "metadata": {},
   "outputs": [
    {
     "name": "stdout",
     "output_type": "stream",
     "text": [
      "Empty DataFrame\n",
      "Columns: [STATISTIC Label, Year, Taxation Class, UNIT, VALUE]\n",
      "Index: []\n"
     ]
    }
   ],
   "source": [
    "# Convert 'Year' column to numeric\n",
    "ireland_df['Year'] = pd.to_numeric(ireland_df['Year'], errors='coerce')\n",
    "\n",
    "# Filter data for the years 2001 to 2023\n",
    "filtered_ireland_df = ireland_df[(ireland_df['Year'] >= 2019) & (ireland_df['Year'] <= 2023)]\n",
    "\n",
    "# Display the filtered DataFrame\n",
    "print(filtered_ireland_df)\n"
   ]
  },
  {
   "cell_type": "markdown",
   "id": "fcf7cfff",
   "metadata": {},
   "source": [
    "# Exploratory Data Analysis (EDA) for Vehicle Licensing Data in Ireland:"
   ]
  },
  {
   "cell_type": "markdown",
   "id": "eab4b1e6",
   "metadata": {},
   "source": [
    "We'll focus on visualizations and statistical analysis to gain insights into patterns, identify potential issues, and handle missing data."
   ]
  },
  {
   "cell_type": "code",
   "execution_count": 6,
   "id": "bb63ecdd",
   "metadata": {},
   "outputs": [
    {
     "name": "stdout",
     "output_type": "stream",
     "text": [
      "First few rows of the Ireland dataset:\n",
      "                        STATISTIC Label  Year      Taxation Class    UNIT  \\\n",
      "0  Vehicles Licensed for the First Time   NaN        All Vehicles  Number   \n",
      "1  Vehicles Licensed for the First Time   NaN        New Vehicles  Number   \n",
      "2  Vehicles Licensed for the First Time   NaN    New Private Cars  Number   \n",
      "3  Vehicles Licensed for the First Time   NaN  New Goods Vehicles  Number   \n",
      "4  Vehicles Licensed for the First Time   NaN        New Tractors  Number   \n",
      "\n",
      "     VALUE  \n",
      "0  18011.0  \n",
      "1  13169.0  \n",
      "2  10959.0  \n",
      "3   1430.0  \n",
      "4    172.0  \n",
      "\n",
      "Dataset Overview:\n",
      "<class 'pandas.core.frame.DataFrame'>\n",
      "RangeIndex: 4606 entries, 0 to 4605\n",
      "Data columns (total 5 columns):\n",
      " #   Column           Non-Null Count  Dtype  \n",
      "---  ------           --------------  -----  \n",
      " 0   STATISTIC Label  4606 non-null   object \n",
      " 1   Year             0 non-null      float64\n",
      " 2   Taxation Class   4606 non-null   object \n",
      " 3   UNIT             4606 non-null   object \n",
      " 4   VALUE            4588 non-null   float64\n",
      "dtypes: float64(2), object(3)\n",
      "memory usage: 180.1+ KB\n",
      "None\n",
      "       Year         VALUE\n",
      "count   0.0   4588.000000\n",
      "mean    NaN   4180.326068\n",
      "std     NaN   7067.406885\n",
      "min     NaN     14.000000\n",
      "25%     NaN    233.750000\n",
      "50%     NaN    587.500000\n",
      "75%     NaN   4751.250000\n",
      "max     NaN  45463.000000\n"
     ]
    }
   ],
   "source": [
    "# Display the first few rows of the dataset\n",
    "print(\"First few rows of the Ireland dataset:\")\n",
    "print(ireland_df.head())\n",
    "\n",
    "# Display basic statistics and data types\n",
    "print(\"\\nDataset Overview:\")\n",
    "print(ireland_df.info())\n",
    "print(ireland_df.describe())\n"
   ]
  },
  {
   "cell_type": "markdown",
   "id": "514cf902",
   "metadata": {},
   "source": [
    "# 2. Visualizations:\n",
    "Create visualizations to explore the distribution of numeric variables and identify potential outliers.\n",
    "Plot histograms, box plots, or violin plots for key numeric columns."
   ]
  },
  {
   "cell_type": "code",
   "execution_count": 7,
   "id": "173b6099",
   "metadata": {},
   "outputs": [
    {
     "data": {
      "image/png": "[encoded data removed]",
      "text/plain": [
       "<Figure size 1200x800 with 1 Axes>"
      ]
     },
     "metadata": {},
     "output_type": "display_data"
    },
    {
     "data": {
      "image/png": "[encoded data removed]",
      "text/plain": [
       "<Figure size 1200x800 with 1 Axes>"
      ]
     },
     "metadata": {},
     "output_type": "display_data"
    }
   ],
   "source": [
    "import seaborn as sns\n",
    "import matplotlib.pyplot as plt\n",
    "\n",
    "# Visualize the distribution of numeric variables\n",
    "plt.figure(figsize=(12, 8))\n",
    "sns.histplot(ireland_df['VALUE'], kde=True)\n",
    "plt.title('Distribution of Vehicle Licensing Values')\n",
    "plt.xlabel('Number of Vehicles')\n",
    "plt.ylabel('Frequency')\n",
    "plt.show()\n",
    "\n",
    "# Box plot for specific columns\n",
    "plt.figure(figsize=(12, 8))\n",
    "sns.boxplot(x='Taxation Class', y='VALUE', data=ireland_df)\n",
    "plt.title('Box Plot of Vehicle Licensing Values by Taxation Class')\n",
    "plt.xlabel('Taxation Class')\n",
    "plt.ylabel('Number of Vehicles')\n",
    "plt.xticks(rotation=45)\n",
    "plt.show()"
   ]
  },
  {
   "cell_type": "markdown",
   "id": "887e6e67",
   "metadata": {},
   "source": [
    "3. Missing Data Analysis:\n",
    "Identify and visualize missing data in the dataset."
   ]
  },
  {
   "cell_type": "code",
   "execution_count": 8,
   "id": "e597fd9f",
   "metadata": {},
   "outputs": [
    {
     "data": {
      "image/png": "[encoded data removed]",
      "text/plain": [
       "<Figure size 1000x600 with 1 Axes>"
      ]
     },
     "metadata": {},
     "output_type": "display_data"
    },
    {
     "name": "stdout",
     "output_type": "stream",
     "text": [
      "\n",
      "Percentage of Missing Values for Each Column:\n",
      "STATISTIC Label      0.000000\n",
      "Year               100.000000\n",
      "Taxation Class       0.000000\n",
      "UNIT                 0.000000\n",
      "VALUE                0.390795\n",
      "dtype: float64\n"
     ]
    }
   ],
   "source": [
    "# Visualize missing data using a heatmap\n",
    "plt.figure(figsize=(10, 6))\n",
    "sns.heatmap(ireland_df.isnull(), cbar=False, cmap='viridis')\n",
    "plt.title('Missing Data Visualization')\n",
    "plt.show()\n",
    "\n",
    "# Display the percentage of missing values for each column\n",
    "missing_percentage = (ireland_df.isnull().sum() / len(ireland_df)) * 100\n",
    "print(\"\\nPercentage of Missing Values for Each Column:\")\n",
    "print(missing_percentage)\n"
   ]
  },
  {
   "cell_type": "markdown",
   "id": "ecff7b9f",
   "metadata": {},
   "source": [
    "STATISTIC Label, Year, Taxation Class, UNIT, Year_Num, Month:\n",
    "\n",
    "These columns have no missing values (0% missing). This means that every row in the dataset has a value for these columns.\n",
    "VALUE:\n",
    "\n",
    "The 'VALUE' column has a missing value percentage of approximately 0.39%. This implies that a small fraction of rows in the 'VALUE' column do not have a recorded value.\n",
    "\n",
    "Interpretation:\n",
    "\n",
    "The dataset appears to be well-populated for most columns, with only a very small proportion of missing values in the 'VALUE' column. "
   ]
  },
  {
   "cell_type": "markdown",
   "id": "c3b86bd6",
   "metadata": {},
   "source": [
    "# Handling missing values\n"
   ]
  },
  {
   "cell_type": "markdown",
   "id": "c20322a6",
   "metadata": {},
   "source": [
    "Handling missing values is a crucial step in data preprocessing, and the choice of approach depends on the nature of your data and the requirements of your analysis. Here are some common methods for handling missing values and reasons for choosing each approach:\n",
    "\n",
    "\n",
    "\n",
    "\n",
    "\n",
    "\n",
    "\n",
    "\n"
   ]
  },
  {
   "cell_type": "markdown",
   "id": "6eb06e79",
   "metadata": {},
   "source": [
    "Given that the 'VALUE' column has a relatively small percentage of missing values (approximately 0.39%), this missing values are very few and don't significantly impact the analysis, I will choose to drop the rows with missing value."
   ]
  },
  {
   "cell_type": "code",
   "execution_count": 9,
   "id": "c44ac956",
   "metadata": {},
   "outputs": [
    {
     "ename": "NameError",
     "evalue": "name 'df' is not defined",
     "output_type": "error",
     "traceback": [
      "\u001b[1;31m---------------------------------------------------------------------------\u001b[0m",
      "\u001b[1;31mNameError\u001b[0m                                 Traceback (most recent call last)",
      "Cell \u001b[1;32mIn[9], line 4\u001b[0m\n\u001b[0;32m      1\u001b[0m \u001b[38;5;28;01mimport\u001b[39;00m \u001b[38;5;21;01mpandas\u001b[39;00m \u001b[38;5;28;01mas\u001b[39;00m \u001b[38;5;21;01mpd\u001b[39;00m\n\u001b[0;32m      3\u001b[0m \u001b[38;5;66;03m# Assuming your DataFrame is named 'df'\u001b[39;00m\n\u001b[1;32m----> 4\u001b[0m column_names \u001b[38;5;241m=\u001b[39m df\u001b[38;5;241m.\u001b[39mcolumns\n\u001b[0;32m      6\u001b[0m \u001b[38;5;66;03m# Display all column names\u001b[39;00m\n\u001b[0;32m      7\u001b[0m \u001b[38;5;28mprint\u001b[39m(\u001b[38;5;124m\"\u001b[39m\u001b[38;5;124mColumn Names:\u001b[39m\u001b[38;5;124m\"\u001b[39m, column_names)\n",
      "\u001b[1;31mNameError\u001b[0m: name 'df' is not defined"
     ]
    }
   ],
   "source": [
    "import pandas as pd\n",
    "\n",
    "# Assuming your DataFrame is named 'df'\n",
    "column_names = df.columns\n",
    "\n",
    "# Display all column names\n",
    "print(\"Column Names:\", column_names)\n"
   ]
  },
  {
   "cell_type": "code",
   "execution_count": null,
   "id": "8a2e165f",
   "metadata": {},
   "outputs": [],
   "source": [
    "import pandas as pd\n",
    "\n",
    "# Assuming your DataFrame is named 'df'\n",
    "# Display the number of missing values before dropping\n",
    "print(\"Number of missing values in 'VALUE' before dropping:\", df['VALUE'].isnull().sum())\n",
    "\n",
    "# Drop rows with missing values in the 'VALUE' column\n",
    "df.dropna(subset=['VALUE'], inplace=True)\n",
    "\n",
    "# Display the number of missing values in 'VALUE' after dropping\n",
    "print(\"Number of missing values in 'VALUE' after dropping:\", df['VALUE'].isnull().sum())\n"
   ]
  },
  {
   "cell_type": "markdown",
   "id": "fd1b27bb",
   "metadata": {},
   "source": [
    "The code successfully dropped the rows with missing values in the 'VALUE' column, and there are now no missing values in that column (Number of missing values in 'VALUE' after dropping: 0)."
   ]
  },
  {
   "cell_type": "markdown",
   "id": "b976b116",
   "metadata": {},
   "source": [
    "4. Statistical Analysis:\n",
    "Conduct statistical analysis to identify trends and patterns in the data."
   ]
  },
  {
   "cell_type": "markdown",
   "id": "88c37b98",
   "metadata": {},
   "source": [
    "Summary Statistics:"
   ]
  },
  {
   "cell_type": "code",
   "execution_count": null,
   "id": "4b1e31ed",
   "metadata": {},
   "outputs": [],
   "source": [
    "summary_statistics_all = df.describe(include='all')\n",
    "print(summary_statistics_all)\n"
   ]
  },
  {
   "cell_type": "markdown",
   "id": "8b887eb2",
   "metadata": {},
   "source": [
    "\n",
    "The summary statistics provide a snapshot of your numeric columns' distribution and central tendency. Here's an interpretation based on the output you provided:\n",
    "STATISTIC Label:\n",
    "Count: 4588 (all non-missing values)\n",
    "Unique: 1 (all values are the same)\n",
    "Top: \"Vehicles Licensed for the First Time\" (as there's only one unique value)\n",
    "Frequency: 4588 (since there's only one unique value)\n",
    "Year:\n",
    "Count: 0 (all missing values)\n",
    "Taxation Class:\n",
    "Count: 4588 (all non-missing values)\n",
    "Unique: 14 (number of unique categories/classes)\n",
    "Top: \"All Vehicles\" (most frequent class)\n",
    "Frequency: 329 (frequency of the most frequent class)\n",
    "UNIT:\n",
    "Count: 4588 (all non-missing values)\n",
    "Unique: 1 (all values are the same)\n",
    "Top: \"Number\" (as there's only one unique value)\n",
    "Frequency: 4588 (since there's only one unique value)\n",
    "VALUE:\n",
    "Count: 4588 (non-missing values)\n",
    "Mean: 4180.33\n",
    "Standard Deviation: 7067.41\n",
    "Minimum: 14\n",
    "25th Percentile: 233.75\n",
    "Median (50th Percentile): 587.5\n",
    "75th Percentile: 4751.25\n",
    "Maximum: 45463\n",
    "This summary provides insights into the distribution of the 'VALUE' column and basic information about the other columns. This means the 'Year' column has a count of 0, indicating no non-missing values. "
   ]
  },
  {
   "cell_type": "markdown",
   "id": "e2853726",
   "metadata": {},
   "source": [
    "\n",
    "\n",
    "Books on Statistics:\n",
    "\n",
    "\"Statistics\" by Robert S. Witte and John S. Witte:\n",
    "This book provides a comprehensive introduction to statistics, encompassing key concepts and techniques.\n",
    "\n",
    "\"Statistics for Business and Economics\" by Paul Newbold, William L. Carlson, and Betty Thorne:\n",
    "A textbook that focuses on the application of statistical concepts to real-world business and economic scenarios."
   ]
  },
  {
   "cell_type": "markdown",
   "id": "bad56157",
   "metadata": {},
   "source": [
    "Histograms:\n",
    "\n",
    "Histograms provide a visual representation of the distribution of a continuous variable. Each bar represents the frequency of data within a specific range."
   ]
  },
  {
   "cell_type": "code",
   "execution_count": null,
   "id": "dcb9b2ba",
   "metadata": {},
   "outputs": [],
   "source": [
    "# Check DataFrame Columns\n",
    "print(df.columns)\n",
    "\n",
    "# Create a histogram if 'VALUE' is a valid column\n",
    "if 'VALUE' in df.columns:\n",
    "    # Create a histogram for the 'VALUE' column\n",
    "    plt.figure(figsize=(10, 6))\n",
    "    plt.hist(df['VALUE'], bins=20, color='skyblue', edgecolor='black')\n",
    "    plt.title('Histogram of VALUE')\n",
    "    plt.xlabel('VALUE')\n",
    "    plt.show()\n",
    "else:\n",
    "    print(\"Column 'VALUE' not found in the DataFrame.\")\n",
    "\n"
   ]
  },
  {
   "cell_type": "markdown",
   "id": "cb66a4e2",
   "metadata": {},
   "source": [
    "This code will create a histogram for the 'VALUE' column with 20 bins"
   ]
  },
  {
   "cell_type": "code",
   "execution_count": null,
   "id": "e249e4a2",
   "metadata": {},
   "outputs": [],
   "source": [
    "import matplotlib.pyplot as plt\n",
    "\n",
    "\n",
    "# Check if 'Year' column exists and has non-empty data\n",
    "if 'Year' in df.columns and not df['Year'].dropna().empty:\n",
    "    # Create a bar plot for the 'Year' column\n",
    "    plt.figure(figsize=(10, 6))\n",
    "    df['Year'].value_counts().sort_index().plot(kind='bar', color='lightcoral', edgecolor='black')\n",
    "    plt.title('Bar Plot of Year')\n",
    "    plt.xlabel('Year')\n",
    "    plt.ylabel('Frequency')\n",
    "    plt.grid(axis='y')\n",
    "    plt.show()\n",
    "else:\n",
    "    print(\"The 'Year' column does not exist or is empty/contains only missing values.\")\n"
   ]
  },
  {
   "cell_type": "code",
   "execution_count": null,
   "id": "7ab6dca1",
   "metadata": {},
   "outputs": [],
   "source": [
    "import matplotlib.pyplot as plt\n",
    "\n",
    "plt.hist(filtered_ireland_df['VALUE'], bins=20, color='skyblue', edgecolor='black')\n",
    "plt.title('Distribution of Vehicle Licensing Values')\n",
    "plt.xlabel('Value')\n",
    "plt.ylabel('Frequency')\n",
    "plt.show()\n"
   ]
  },
  {
   "cell_type": "markdown",
   "id": "cb57d342",
   "metadata": {},
   "source": [
    "Box Plots:\n",
    "\n",
    "Box plots display the distribution of a dataset, highlighting the median, quartiles, and potential outliers."
   ]
  },
  {
   "cell_type": "code",
   "execution_count": null,
   "id": "1f73d329",
   "metadata": {},
   "outputs": [],
   "source": [
    "import seaborn as sns\n",
    "\n",
    "sns.boxplot(x='Year', y='VALUE', data=filtered_ireland_df)\n",
    "plt.title('Box Plot of Vehicle Licensing Values Over the Years')\n",
    "plt.show()\n"
   ]
  },
  {
   "cell_type": "markdown",
   "id": "cbe2c3c4",
   "metadata": {},
   "source": [
    "Kernel Density Plots:\n",
    "\n",
    "Kernel density plots estimate the probability density function of a continuous random variable."
   ]
  },
  {
   "cell_type": "code",
   "execution_count": null,
   "id": "a55b8e1e",
   "metadata": {},
   "outputs": [],
   "source": [
    "sns.kdeplot(filtered_ireland_df['VALUE'], fill=True, color='orange')\n",
    "plt.title('Kernel Density Plot of Vehicle Licensing Values')\n",
    "plt.xlabel('Value')\n",
    "plt.ylabel('Density')\n",
    "plt.show()\n"
   ]
  },
  {
   "cell_type": "markdown",
   "id": "438c2875",
   "metadata": {},
   "source": [
    "Distribution of Numeric Columns:\n",
    "Create histograms to visualize the distribution of numeric columns.\n",
    "Identify any skewness or patterns in the data."
   ]
  },
  {
   "cell_type": "code",
   "execution_count": null,
   "id": "9c1b5e00",
   "metadata": {},
   "outputs": [],
   "source": [
    "import matplotlib.pyplot as plt\n",
    "\n",
    "# Create histograms\n",
    "filtered_ireland_df.hist(figsize=(12, 8))\n",
    "plt.show()\n"
   ]
  },
  {
   "cell_type": "markdown",
   "id": "bf9b0f34",
   "metadata": {},
   "source": [
    "Time Trends:\n",
    "Explore trends over time using line plots or bar plots for different numeric columns.\n",
    "Analyze how the number of licensed vehicles has changed over the years."
   ]
  },
  {
   "cell_type": "code",
   "execution_count": null,
   "id": "84f778d8",
   "metadata": {},
   "outputs": [],
   "source": [
    "import seaborn as sns\n",
    "import matplotlib.pyplot as plt\n",
    "\n",
    "# Check if 'Year', 'VALUE', and 'Taxation Class' columns exist in the DataFrame\n",
    "required_columns = ['Year', 'VALUE', 'Taxation Class']\n",
    "if not all(col in filtered_ireland_df.columns for col in required_columns):\n",
    "    print(\"Required columns are missing.\")\n",
    "else:\n",
    "    # Line plot for time trends\n",
    "    plt.figure(figsize=(12, 8))\n",
    "\n",
    "    try:\n",
    "        sns.lineplot(x='Year', y='VALUE', data=filtered_ireland_df, hue='Taxation Class')\n",
    "        plt.title('Number of Licensed Vehicles Over Time')\n",
    "        plt.show()\n",
    "    except Exception as e:\n",
    "        print(f\"Error: {e}\")\n",
    "\n"
   ]
  },
  {
   "cell_type": "markdown",
   "id": "ae80a0af",
   "metadata": {},
   "source": [
    "Categorical Data Exploration:\n",
    "Explore the distribution of categorical variables such as 'Taxation Class' and 'Month'.\n",
    "Use bar plots to visualize the counts in each category."
   ]
  },
  {
   "cell_type": "markdown",
   "id": "53ef54b5",
   "metadata": {},
   "source": [
    "Correlation Analysis:\n",
    "Examine the correlation between numeric variables using a correlation matrix.\n",
    "Identify relationships between different features.\n",
    "python\n"
   ]
  },
  {
   "cell_type": "code",
   "execution_count": null,
   "id": "62cc3d69",
   "metadata": {},
   "outputs": [],
   "source": [
    "# Exclude 'STATISTIC Label' column before calculating correlation\n",
    "numeric_columns = filtered_ireland_df.select_dtypes(include=['number']).columns\n",
    "correlation_matrix = filtered_ireland_df[numeric_columns].corr()\n",
    "\n",
    "# Plot the correlation matrix\n",
    "plt.figure(figsize=(10, 8))\n",
    "sns.heatmap(correlation_matrix, annot=True, cmap='coolwarm', fmt='.2f')\n",
    "plt.title('Correlation Matrix')\n",
    "plt.show()\n"
   ]
  },
  {
   "cell_type": "markdown",
   "id": "57412d99",
   "metadata": {},
   "source": [
    "Let's interprete the result:\n",
    "\n",
    "Red Box with 1.00:\n",
    "\n",
    "A red box with a value of 1.00 indicates a perfect positive correlation. This means that the variables on both sides of the correlation are perfectly correlated, and as one increases, the other also increases proportionally.\n",
    "Blue Box with -0.01:\n",
    "\n",
    "A blue box with a value of -0.01 suggests a very weak negative correlation. The negative value indicates a tendency for the variables to move in opposite directions, but the correlation is close to zero, indicating a weak relationship.\n",
    "Red Box with -0.01:\n",
    "\n",
    "A red box with a value of -0.01 suggests a very weak negative correlation. Similar to the blue box, this indicates a weak tendency for the variables to move in opposite directions.\n",
    "Blue Box with 1.00:\n",
    "\n",
    "A blue box with a value of 1.00 indicates a perfect negative correlation. This means that the variables on both sides of the correlation are perfectly negatively correlated, and as one increases, the other decreases proportionally."
   ]
  },
  {
   "cell_type": "markdown",
   "id": "782441f4",
   "metadata": {},
   "source": [
    "# Interactive Dashboard Development:"
   ]
  },
  {
   "cell_type": "markdown",
   "id": "eaabb27d",
   "metadata": {},
   "source": [
    "We will develop an interactive dashboard following Tufts principles within a Jupyter Notebook, explaining choices and visualizations. No external tools like PowerBI will be used."
   ]
  },
  {
   "cell_type": "markdown",
   "id": "6b5ff964",
   "metadata": {},
   "source": [
    "Developing an interactive dashboard within a Jupyter Notebook is a great way to visualize and communicate our findings. Therefore we will use libraries like Plotly and Dash for this purpose."
   ]
  },
  {
   "cell_type": "markdown",
   "id": "b4d127d6",
   "metadata": {},
   "source": [
    "Install Required Libraries & Import Libraries:\n"
   ]
  },
  {
   "cell_type": "code",
   "execution_count": null,
   "id": "b9e5acde",
   "metadata": {},
   "outputs": [],
   "source": [
    "# Import necessary libraries\n",
    "import pandas as pd\n",
    "import dash\n",
    "from dash import dcc, html\n",
    "import plotly.express as px\n",
    "\n",
    "# Load the Ireland dataset (replace 'your_dataset.csv' with the actual file path)\n",
    "dataset_path = 'VehiclesLicensedfortheFirstTimeIreland.csv'\n",
    "df = pd.read_csv(dataset_path)\n",
    "\n",
    "# Create a Dash web application\n",
    "app = dash.Dash(__name__)\n",
    "\n",
    "# Define the layout of the dashboard\n",
    "app.layout = html.Div([\n",
    "    html.H1(\"Ireland Vehicle Licensing Dashboard\"),\n",
    "    dcc.Graph(id='scatter-plot'),\n",
    "    dcc.Dropdown(\n",
    "        id='year-dropdown',\n",
    "        options=[{'label': str(year), 'value': year} for year in df['Year'].unique()],\n",
    "        value=df['Year'].max(),\n",
    "        multi=False,\n",
    "        placeholder=\"Select a Year\",\n",
    "    )\n",
    "])\n",
    "\n",
    "# Define callbacks to update the scatter plot based on the selected year\n",
    "@app.callback(\n",
    "    dash.dependencies.Output('scatter-plot', 'figure'),\n",
    "    [dash.dependencies.Input('year-dropdown', 'value')]\n",
    ")\n",
    "def update_scatter_plot(selected_year):\n",
    "    # Filter the dataset based on the selected year\n",
    "    filtered_df = df[df['Year'] == selected_year]\n",
    "\n",
    "    # Create a scatter plot using Plotly Express\n",
    "    fig = px.scatter(filtered_df, x='Taxation Class', y='VALUE',\n",
    "                     labels={'VALUE': 'Number of Vehicles'},\n",
    "                     title=f'Vehicles Licensed for the First Time - {selected_year}')\n",
    "    return fig\n",
    "\n",
    "# Run the app\n",
    "if __name__ == '__main__':\n",
    "    app.run_server(port=8050)\n"
   ]
  },
  {
   "cell_type": "markdown",
   "id": "0739b9a4",
   "metadata": {},
   "source": [
    "The provided Python code creates an interactive dashboard using the Dash web framework and Plotly for visualisation. It begins by importing the necessary libraries, including Pandas, for data handling. The dataset, 'VehiclesLicensedfortheFirstTimeIreland.csv', is loaded into a Pandas DataFrame. The Dash web application is initiated, and the dashboard layout is defined, comprising a title, a scatter plot, and a dropdown menu to select a specific year from the dataset. The code establishes a callback function that updates the scatter plot dynamically based on the chosen year. When the script is executed, it runs the Dash app on port 8050, allowing users to interact with the dashboard through a web browser. The scatter plot visualises the number of vehicles licensed for the first time, with the dataset organised by taxation class. Users can select different years to observe how the licensing patterns change over time. The dashboard will be accessible in a web browser at http://127.0.0.1:8050/. This setup provides a straightforward example of creating an interactive data visualisation dashboard within a Jupyter Notebook using Dash and Plotly."
   ]
  },
  {
   "cell_type": "code",
   "execution_count": null,
   "id": "6170b5c9",
   "metadata": {},
   "outputs": [],
   "source": [
    "import os\n",
    "import pandas as pd\n",
    "\n",
    "# Get the current working directory\n",
    "current_directory = os.getcwd()\n",
    "\n",
    "# List files in the current directory\n",
    "files_in_directory = os.listdir(current_directory)\n",
    "\n",
    "# Filter files to show only CSV files (adjust as needed)\n",
    "csv_files = [file for file in files_in_directory if file.endswith(\".csv\")]\n",
    "\n",
    "# Print the list of CSV files\n",
    "print(\"Files in the current directory:\")\n",
    "for file in csv_files:\n",
    "    print(file)"
   ]
  },
  {
   "cell_type": "code",
   "execution_count": null,
   "id": "cddd8727",
   "metadata": {},
   "outputs": [],
   "source": [
    "\n",
    "\n",
    "# Load the existing dataset\n",
    "existing_data = pd.read_csv('VehiclesLicensedfortheFirstTimeIreland.csv')\n",
    "\n",
    "# Display the columns of existing_data\n",
    "print(\"Columns in existing_data:\", existing_data.columns)\n",
    "\n",
    "# Load the county-level geographic dataset\n",
    "county_data = pd.read_csv('Smallpublicservicevehiclesbytypeandcountyoflicensing.csv')\n",
    "\n",
    "# Display the columns of county_data\n",
    "print(\"Columns in county_data:\", county_data.columns)\n",
    "\n",
    "merged_data = pd.merge(existing_data, county_data, left_on='STATISTIC Label', right_on='County', how='left')\n",
    "\n",
    "# Display the merged dataset\n",
    "print(merged_data)\n",
    "\n",
    "\n"
   ]
  },
  {
   "cell_type": "markdown",
   "id": "e9ed2d1c",
   "metadata": {},
   "source": [
    "\n",
    "The merger appears to have concluded successfully, resulting in the creation of a new dataset named merged_data. This dataset incorporates columns from both existing_data and county_data. Notably, certain columns with identical names have been differentiated by the addition of suffixes: _x and _y. These suffixes serve to signify the origin of the column, distinguishing between the left and right DataFrames in the event of conflicts in column names.\n",
    "\n",
    "\n",
    "\n",
    "Here's a breakdown of the columns in the merged dataset:\n",
    "Columns from existing_data:\n",
    "STATISTIC Label (suffixed with _x)\n",
    "Year (suffixed with _x)\n",
    "Taxation Class (suffixed with _x)\n",
    "UNIT (suffixed with _x)\n",
    "VALUE (suffixed with _x)\n",
    "Columns from county_data:\n",
    "Statistic Label\n",
    "Year\n",
    "County\n",
    "Type of Small Public Service Vehicle\n",
    "UNIT\n",
    "VALUE\n"
   ]
  },
  {
   "cell_type": "markdown",
   "id": "9445c5e2",
   "metadata": {},
   "source": [
    "To clean up the dataset, we will drop the unnecessary columns. As follows:"
   ]
  },
  {
   "cell_type": "code",
   "execution_count": null,
   "id": "4f5ac105",
   "metadata": {},
   "outputs": [],
   "source": [
    "import os\n",
    "\n",
    "# Print current working directory\n",
    "print(\"Current Working Directory:\", os.getcwd())\n",
    "\n",
    "# List files in the current working directory\n",
    "print(\"Files in Current Directory:\", os.listdir())"
   ]
  },
  {
   "cell_type": "markdown",
   "id": "14c95458",
   "metadata": {},
   "source": [
    "This code explicitly converts the 'Year' columns in both DataFrames to strings before performing the merge. "
   ]
  },
  {
   "cell_type": "markdown",
   "id": "3be2fd27",
   "metadata": {},
   "source": [
    "\n",
    "\n",
    "The merge was successful, but the 'County' column and other additional columns from county_data are filled with NaN (Not a Number) values. This indicates that there might not be a match between the 'Year' values in both DataFrames for the corresponding rows.\n",
    "We will inspect the 'Year' values in both DataFrames to identify the issue. Checking for any leading or trailing whitespaces or differences in formatting. Using the following code:"
   ]
  },
  {
   "cell_type": "code",
   "execution_count": null,
   "id": "fcf8817d",
   "metadata": {},
   "outputs": [],
   "source": [
    "print(\"Unique 'Year' values in existing_data:\", existing_data['Year'].unique())\n",
    "print(\"Unique 'Year' values in county_data:\", county_data['Year'].unique())\n"
   ]
  },
  {
   "cell_type": "markdown",
   "id": "ca06e7bc",
   "metadata": {},
   "source": [
    "\n",
    "We can see the 'Year' values in existing_data are in the format 'YYYY Month', whereas the 'Year' values in county_data are in the format 'YYYY'. This discrepancy is preventing a proper match during the merge.\n",
    "To address this, we can create a new column in both DataFrames that contains the common year. Then, we can use this new column for merging. "
   ]
  },
  {
   "cell_type": "code",
   "execution_count": null,
   "id": "81bf6f65",
   "metadata": {},
   "outputs": [],
   "source": [
    "# Extract the year from 'Year' column in existing_data\n",
    "existing_data['Year'] = existing_data['Year'].str.extract('(\\d{4})')\n",
    "\n",
    "# Extract the year from 'Year' column in county_data\n",
    "county_data['Year'] = county_data['Year'].astype(str)  # Convert to string for consistency\n",
    "county_data['Year'] = county_data['Year'].str.extract('(\\d{4})')\n",
    "\n",
    "# Identify the common column for merging\n",
    "merge_column = 'Year'\n",
    "\n",
    "# Merge datasets based on the specified column\n",
    "merged_data = pd.merge(existing_data, county_data, on=merge_column, how='left')\n",
    "\n",
    "# Display the merged dataset\n",
    "print(merged_data)\n"
   ]
  },
  {
   "cell_type": "markdown",
   "id": "576aed5f",
   "metadata": {},
   "source": [
    "The merger was successful. Now, the DataFrames are merged based on the 'Year' column in both datasets. The resulting DataFrame merged_data contains columns from both existing_data and county_data. "
   ]
  },
  {
   "cell_type": "markdown",
   "id": "d7ce0fea",
   "metadata": {},
   "source": [
    " Here's an explanation of the columns in the merged dataset:\n",
    "STATISTIC Label: The type of statistic or measurement being recorded. In this case, it represents the vehicles licensed for the first time.\n",
    "Year: The year during which the data was recorded.\n",
    "Taxation Class: The classification of the vehicles based on taxation criteria. It includes categories like 'All Vehicles,' 'New Vehicles,' 'New Private Cars,' etc.\n",
    "UNIT_x: The unit of measurement for the 'VALUE_x' column. It is 'Number,' indicating the count of vehicles.\n",
    "VALUE_x: The numerical value representing the count of vehicles for the corresponding category.\n",
    "Statistic Label: This column duplicates the 'STATISTIC Label' column. It might have been included due to the merging process and can be dropped if unnecessary.\n",
    "County: This column is from the county_data DataFrame. Since you performed a left merge, this column will contain NaN (Not a Number) for rows where the 'Year' in existing_data does not match the 'Year' in county_data.\n",
    "Type of Small Public Service Vehicle: Another column from county_data with NaN values for unmatched years.\n",
    "UNIT_y: The unit of measurement for the 'VALUE_y' column from county_data.\n",
    "VALUE_y: The numerical value from county_data representing some measurement related to small public service vehicles.\n",
    "In summary, the merged DataFrame combines information from both existing_data and county_data based on the 'Year' column. Some columns have suffixes like '_x' and '_y' to distinguish between columns with the same name in the original DataFrames. "
   ]
  },
  {
   "cell_type": "markdown",
   "id": "bbba6e98",
   "metadata": {},
   "source": [
    "Based on this project goals, we will clean up the DataFrame by dropping unnecessary columns and handling NaN values."
   ]
  },
  {
   "cell_type": "code",
   "execution_count": null,
   "id": "3fb7eb39",
   "metadata": {},
   "outputs": [],
   "source": [
    "# Drop unnecessary columns\n",
    "merged_data_cleaned = merged_data.drop(['Statistic Label', 'County', 'Type of Small Public Service Vehicle', 'UNIT_y', 'VALUE_y'], axis=1)\n",
    "\n",
    "\n",
    "# merged_data_cleaned = merged_data_cleaned.dropna()\n",
    "\n",
    "# Display the cleaned DataFrame\n",
    "print(merged_data_cleaned)\n"
   ]
  },
  {
   "cell_type": "code",
   "execution_count": null,
   "id": "4895f564",
   "metadata": {},
   "outputs": [],
   "source": [
    "print(merged_data.columns)\n"
   ]
  },
  {
   "cell_type": "code",
   "execution_count": null,
   "id": "bc77b41c",
   "metadata": {},
   "outputs": [],
   "source": [
    "print(df.columns)\n"
   ]
  },
  {
   "cell_type": "code",
   "execution_count": null,
   "id": "1620c01c",
   "metadata": {},
   "outputs": [],
   "source": [
    "# Import necessary libraries\n",
    "import pandas as pd\n",
    "import dash\n",
    "from dash import dcc, html\n",
    "import plotly.express as px\n",
    "import os  # Import the os module for checking file existence\n",
    "\n",
    "dataset_path = 'VehiclesLicensedfortheFirstTimeIreland.csv'\n",
    "\n",
    "# Check if the file exists\n",
    "if os.path.exists(dataset_path):\n",
    "    df = pd.read_csv(dataset_path)\n",
    "\n",
    "    # Create a Dash web application\n",
    "    app = dash.Dash(__name__)\n",
    "\n",
    "    # Define the layout of the dashboard\n",
    "    app.layout = html.Div([\n",
    "        html.H1(\"Ireland Vehicle Licensing Dashboard\"),\n",
    "        dcc.Graph(id='bar-chart'),  # Change 'scatter-plot' to 'bar-chart'\n",
    "        dcc.Dropdown(\n",
    "            id='year-dropdown',\n",
    "            options=[{'label': str(year), 'value': year} for year in df['Year'].unique()],\n",
    "            value=df['Year'].max(),\n",
    "            multi=False,\n",
    "            placeholder=\"Select a Year\",\n",
    "        )\n",
    "    ])\n",
    "\n",
    "   \n",
    "    @app.callback(\n",
    "        dash.dependencies.Output('bar-chart', 'figure'), \n",
    "        [dash.dependencies.Input('year-dropdown', 'value')]\n",
    "    )\n",
    "    def update_bar_chart(selected_year):\n",
    "        # Filter the dataset based on the selected year\n",
    "        filtered_df = df[df['Year'] == selected_year]\n",
    "\n",
    "        # Create a bar chart using Plotly Express\n",
    "        fig = px.bar(filtered_df, x='Taxation Class', y='VALUE',\n",
    "                     labels={'VALUE': 'Number of Vehicles'},\n",
    "                     title=f'Vehicles Licensed for the First Time - {selected_year}')\n",
    "        return fig\n",
    "\n",
    "    # Run the app with a different port (e.g., 8051)\n",
    "    if __name__ == '__main__':\n",
    "        app.run_server(port=8051)\n",
    "else:\n",
    "    print(f\"The file {dataset_path} does not exist.\")\n"
   ]
  },
  {
   "cell_type": "markdown",
   "id": "7aa00126",
   "metadata": {},
   "source": [
    "# Statistics for Data Analytics Tasks:"
   ]
  },
  {
   "cell_type": "markdown",
   "id": "187b3f29",
   "metadata": {},
   "source": [
    "To retrieve statistics related to numeric values within a DataFrame, the \".describe\" function can be used. This particular function is designed to produce descriptive statistics that provide a comprehensive overview of the data set, encompassing key measures of central tendency, dispersion, and the overall shape of the data distribution (McKinney, 2017). We can calculate descriptive statistics (Ssuch as mean, standard deviation, min, max, and quartiles) for numerical columns using the describe() method. for numerical columns and value counts for categorical columns to provide statistical insights into the dataset. I will also use the the option tabulate to see the result as a table for a for better readability."
   ]
  },
  {
   "cell_type": "code",
   "execution_count": null,
   "id": "0426a3c4",
   "metadata": {},
   "outputs": [],
   "source": [
    "pip install tabulate\n"
   ]
  },
  {
   "cell_type": "code",
   "execution_count": null,
   "id": "674e09fb",
   "metadata": {},
   "outputs": [],
   "source": [
    "from tabulate import tabulate\n",
    "\n",
    "# Descriptive statistics for numerical columns\n",
    "numerical_stats = df.describe()\n",
    "\n",
    "# Check if 'Taxation Class' is in the available columns\n",
    "if 'Taxation Class' in df.columns:\n",
    "    # Value counts for categorical columns\n",
    "    categorical_stats = df['Taxation Class'].value_counts()\n",
    "\n",
    "    # Display the results as a table\n",
    "    print(\"Descriptive Statistics for Numerical Columns:\")\n",
    "    print(tabulate(numerical_stats, headers='keys', tablefmt='pretty'))\n",
    "\n",
    "    print(\"\\nValue Counts for the 'Taxation Class' Column:\")\n",
    "    print(tabulate(categorical_stats.reset_index(), headers='keys', tablefmt='pretty', showindex=False))\n",
    "else:\n",
    "    print(\"Column 'Taxation Class' not found in the DataFrame.\")\n",
    "\n"
   ]
  },
  {
   "cell_type": "markdown",
   "id": "703520ca",
   "metadata": {},
   "source": [
    "Descriptive Statistics for Numerical Columns (VALUE):\n",
    "Count: The number of observations in the 'VALUE' column is 4588.\n",
    "Mean: The mean (average) value of 'VALUE' is approximately 4180.33.\n",
    "Std: The standard deviation of 'VALUE' is approximately 7067.41, indicating the variation or dispersion in the values.\n",
    "Min: The minimum value in 'VALUE' is 14.\n",
    "25%: The first quartile (25th percentile) of 'VALUE' is 233.75.\n",
    "50%: The median (50th percentile) of 'VALUE' is 587.5.\n",
    "75%: The third quartile (75th percentile) of 'VALUE' is 4751.25.\n",
    "Max: The maximum value in 'VALUE' is 45463.\n",
    "Value Counts for the 'Taxation Class' Column:\n",
    "The 'Taxation Class' column represents different categories related to vehicle taxation.\n",
    "Each category has a count of 329, indicating that the dataset contains 329 observations for each 'Taxation Class.'\n",
    "The categories include various classes such as 'All Vehicles,' 'New Vehicles,' 'New Private Cars,' 'New Goods Vehicles,' 'New Tractors,' 'New Motor Cycles,' 'New Exempt Vehicles,' 'Secondhand Vehicles,' and more.\n",
    "These descriptive statistics summarise the central tendency, variability, and distribution of the numerical values in the 'VALUE' column and the distribution of observations across different 'Taxation Class' categories."
   ]
  },
  {
   "cell_type": "markdown",
   "id": "7731a568",
   "metadata": {},
   "source": [
    "I want now to genere generate histograms for each numeric column in the DataFrame"
   ]
  },
  {
   "cell_type": "code",
   "execution_count": null,
   "id": "7e52f8bd",
   "metadata": {},
   "outputs": [],
   "source": [
    "import matplotlib.pyplot as plt\n",
    "\n",
    "# Select only numeric columns\n",
    "numeric_columns = df.select_dtypes(include='number')\n",
    "\n",
    "# Generate histograms for each numeric column\n",
    "numeric_columns.hist(bins=20, figsize=(12, 8))\n",
    "plt.suptitle(\"Histograms for Numeric Columns\", y=0.95, fontsize=16)\n",
    "plt.show()\n",
    "\n"
   ]
  },
  {
   "cell_type": "markdown",
   "id": "3e6b4533",
   "metadata": {},
   "source": [
    "This code is designed to create histograms for each numeric column within a DataFrame. In a DataFrame, different columns may contain various types of information, and numeric columns typically hold numerical data. A histogram is a graphical representation that displays the distribution of values in a numeric column, showcasing how frequently specific ranges of values occur. The subplots mentioned in the code are like separate sections on a canvas, with each subplot dedicated to a particular numeric column. These subplots are arranged vertically, meaning one below the other. The bins parameter in the code allows for control over the level of detail in each histogram by determining the number of bins or containers used to group the numeric values. In summary, this code visually explores the distribution of numeric data in a DataFrame, helping to understand the patterns and ranges of values in each numeric column. Adjusting the bins parameter offers flexibility in tailoring the level of detail in the histograms."
   ]
  },
  {
   "cell_type": "markdown",
   "id": "ecea78a6",
   "metadata": {},
   "source": [
    "Now, let's have a look in the outliers that can better observed through the following boxplots:\n",
    "\n",
    "By examining the boxplots, I can identify the presence of outliers in each numeric column. Outliers are points that fall outside the whiskers of the box, indicating values significantly different from the rest of the distribution. This information is valuable for understanding the data's variability and deciding about further analysis or data preprocessing."
   ]
  },
  {
   "cell_type": "code",
   "execution_count": null,
   "id": "2e63a131",
   "metadata": {},
   "outputs": [],
   "source": [
    "import matplotlib.pyplot as plt\n",
    "import seaborn as sns\n",
    "import numpy as np\n",
    "\n",
    "# Assuming df is your DataFrame with numeric columns\n",
    "# If not, replace it with your actual DataFrame name\n",
    "\n",
    "# Select only numeric columns\n",
    "numeric_columns = df.select_dtypes(include='number')\n",
    "\n",
    "# Set up the figure with subplots and adjust spacing\n",
    "fig, axes = plt.subplots(nrows=len(numeric_columns.columns), figsize=(8, 5 * len(numeric_columns.columns)))\n",
    "fig.suptitle(\"Boxplots for Numeric Columns\", y=0.94, fontsize=16)\n",
    "plt.subplots_adjust(hspace=0.6)  # Adjust the vertical spacing between subplots\n",
    "\n",
    "# Create boxplots for each numeric column\n",
    "for ax, col in zip(np.ravel(axes), numeric_columns.columns):\n",
    "    sns.boxplot(x=numeric_columns[col], ax=ax)\n",
    "    ax.set_title(f'Boxplot for {col}', fontsize=10, rotation=45)  # Rotate the title for better readability\n",
    "\n",
    "plt.show()\n",
    "\n",
    "\n"
   ]
  },
  {
   "cell_type": "markdown",
   "id": "1daec420",
   "metadata": {},
   "source": [
    "# Outliers"
   ]
  },
  {
   "cell_type": "markdown",
   "id": "def97ca5",
   "metadata": {},
   "source": [
    "Standard methods for detecting outliers include visual inspection using boxplots, statistical measures such as Z-score, and machine learning techniques. Once identified, you can handle outliers by removing them, transforming the data, or using robust statistical methods that are less sensitive to extreme values.\n",
    "\n",
    "The box plots generated for the non-numeric columns of the data set further contribute to understanding the distribution of the data. The marine library is used to create visually attractive patterns, using a variety of colours for better distinction. Grid lines are removed, and the layout is adjusted to improve the overall appearance of the charts. Additionally, custom layout settings ensure consistent text styles and sizes for titles, promoting clarity and readability in final visualizations (seaborn.pydata.org, 2023)."
   ]
  },
  {
   "cell_type": "code",
   "execution_count": null,
   "id": "6114107b",
   "metadata": {},
   "outputs": [],
   "source": [
    "import pandas as pd\n",
    "\n",
    "\n",
    "# Select only numeric columns\n",
    "numeric_columns = df.select_dtypes(include='number')\n",
    "\n",
    "# Create an empty DataFrame to store outlier information\n",
    "outliers_df = pd.DataFrame(columns=['Column', 'Outliers'])\n",
    "\n",
    "# Iterate over each numeric column\n",
    "for col in numeric_columns.columns:\n",
    "    # Calculate the IQR (Interquartile Range)\n",
    "    Q1 = numeric_columns[col].quantile(0.25)\n",
    "    Q3 = numeric_columns[col].quantile(0.75)\n",
    "    IQR = Q3 - Q1\n",
    "\n",
    "    # Define the upper and lower bounds for outliers\n",
    "    lower_bound = Q1 - 1.5 * IQR\n",
    "    upper_bound = Q3 + 1.5 * IQR\n",
    "\n",
    "    # Identify outliers\n",
    "    outliers = numeric_columns[(numeric_columns[col] < lower_bound) | (numeric_columns[col] > upper_bound)][col]\n",
    "\n",
    "    # Append information to the new DataFrame\n",
    "    outliers_df = pd.concat([outliers_df, pd.DataFrame({'Column': [col]*len(outliers), 'Outliers': outliers.tolist()})], ignore_index=True)\n",
    "\n",
    "# Display the DataFrame with outlier information\n",
    "print(outliers_df)\n",
    "\n"
   ]
  },
  {
   "cell_type": "raw",
   "id": "7f25228f",
   "metadata": {},
   "source": [
    "Column: 'VALUE'\n",
    "Outliers: 18011.0\n",
    "This indicates that 18011.0 is an outlier in the 'VALUE' column.\n",
    "\n",
    "Interpreting outliers:\n",
    "Outliers are data points that deviate significantly from the rest of the data in a distribution. In this context, the values listed in the 'Outliers' column are considered unusual or extreme compared to most values in the 'VALUE' column.\n",
    "\n",
    "\n",
    "Let's investigate these specific data points to understand why they differ significantly from the rest.\n"
   ]
  },
  {
   "cell_type": "markdown",
   "id": "1ddedac4",
   "metadata": {},
   "source": [
    "\n",
    "Individual Inspection:\n",
    "Examine the individual data points identified as outliers. "
   ]
  },
  {
   "cell_type": "code",
   "execution_count": null,
   "id": "305381da",
   "metadata": {},
   "outputs": [],
   "source": [
    "outlier_values = outliers_df['Outliers'].unique()\n",
    "outlier_rows = df[df['VALUE'].isin(outlier_values)]\n",
    "print(outlier_rows)\n"
   ]
  },
  {
   "cell_type": "markdown",
   "id": "80a088e4",
   "metadata": {},
   "source": [
    "Data Distribution:\n",
    "Visualize the distribution of the 'VALUE' column, including the outliers, to see the overall pattern and understand where these outliers lie in the distribution."
   ]
  },
  {
   "cell_type": "code",
   "execution_count": null,
   "id": "16259728",
   "metadata": {},
   "outputs": [],
   "source": [
    "import seaborn as sns\n",
    "sns.histplot(df['VALUE'], bins=30, kde=True)\n",
    "plt.title('Distribution of VALUE')\n",
    "plt.show()\n"
   ]
  },
  {
   "cell_type": "code",
   "execution_count": null,
   "id": "10559865",
   "metadata": {},
   "outputs": [],
   "source": [
    "# Display the list of columns in your DataFrame\n",
    "print(df1.columns)\n"
   ]
  },
  {
   "cell_type": "code",
   "execution_count": null,
   "id": "ddc9fe03",
   "metadata": {},
   "outputs": [],
   "source": [
    "import pandas as pd\n",
    "import matplotlib.pyplot as plt\n",
    "import seaborn as sns\n",
    "\n",
    "# Load your dataset\n",
    "# Replace 'your_file_path.csv' with the actual file path\n",
    "df1 = pd.read_csv('Smallpublicservicevehiclesbytypeandcountyoflicensing.csv')\n",
    "\n",
    "# Assuming 'VALUE' is the numerical column of interest\n",
    "numeric_column = 'VALUE'\n",
    "\n",
    "# Create a 3x2 grid of subplots\n",
    "fig, axes = plt.subplots(nrows=2, ncols=3, figsize=(16, 10))\n",
    "\n",
    "# Create boxplots for non-numeric columns\n",
    "sns.boxplot(ax=axes[0, 0], x='Year', y='VALUE', data=df1, color='skyblue')\n",
    "sns.boxplot(ax=axes[0, 1], x='Type of Small Public Service Vehicle', y='VALUE', data=df1, color='blue')  # Use the exact column name\n",
    "sns.boxplot(ax=axes[0, 2], x='UNIT', y='VALUE', data=df1, color='#00BCD4')\n",
    "sns.boxplot(ax=axes[1, 0], x='County', y='VALUE', data=df1, color='skyblue')\n",
    "\n",
    "# Adjust subplot parameters to remove empty space\n",
    "plt.tight_layout()\n",
    "plt.show()\n",
    "\n",
    "\n",
    "\n",
    "\n"
   ]
  },
  {
   "cell_type": "code",
   "execution_count": null,
   "id": "2771c3db",
   "metadata": {},
   "outputs": [],
   "source": [
    "import pandas as pd\n",
    "import matplotlib.pyplot as plt\n",
    "import seaborn as sns\n",
    "\n",
    "# Load your dataset\n",
    "\n",
    "df1 = pd.read_csv('Smallpublicservicevehiclesbytypeandcountyoflicensing.csv')\n",
    "\n",
    "# Assuming 'VALUE' is the numerical column of interest\n",
    "numeric_column = 'VALUE'\n",
    "\n",
    "# Convert non-numeric values in 'VALUE' column to NaN\n",
    "df1[numeric_column] = pd.to_numeric(df1[numeric_column], errors='coerce')\n",
    "\n",
    "# Create a 3x2 grid of subplots\n",
    "fig, axes = plt.subplots(nrows=2, ncols=3, figsize=(16, 10))\n",
    "\n",
    "# Create boxplots for non-numeric columns\n",
    "sns.boxplot(ax=axes[0, 0], x='Year', y=numeric_column, data=df1, color='skyblue')\n",
    "sns.boxplot(ax=axes[0, 1], x='Type of Small Public Service Vehicle', y=numeric_column, data=df1, color='blue')  \n",
    "sns.boxplot(ax=axes[0, 2], x='UNIT', y=numeric_column, data=df1, color='#00BCD4')\n",
    "sns.boxplot(ax=axes[1, 0], x='County', y=numeric_column, data=df1, color='skyblue')\n",
    "\n",
    "# Calculate correlation between 'VALUE' and other numerical columns\n",
    "correlation_year = df1.groupby('Year')[numeric_column].corr(df1[numeric_column]).sort_values(ascending=False)\n",
    "correlation_type = df1.groupby('Type of Small Public Service Vehicle')[numeric_column].corr(df1[numeric_column]).sort_values(ascending=False)\n",
    "correlation_unit = df1.groupby('UNIT')[numeric_column].corr(df1[numeric_column]).sort_values(ascending=False)\n",
    "correlation_county = df1.groupby('County')[numeric_column].corr(df1[numeric_column]).sort_values(ascending=False)\n",
    "\n",
    "# Print the correlation values\n",
    "print(\"Correlation with Year:\\n\", correlation_year)\n",
    "print(\"\\nCorrelation with Type of Small Public Service Vehicle:\\n\", correlation_type)\n",
    "print(\"\\nCorrelation with UNIT:\\n\", correlation_unit)\n",
    "print(\"\\nCorrelation with County:\\n\", correlation_county)\n",
    "\n",
    "# Adjust subplot parameters to remove empty space\n",
    "plt.tight_layout()\n",
    "plt.show()\n",
    "\n",
    "\n"
   ]
  },
  {
   "cell_type": "code",
   "execution_count": null,
   "id": "2da06b70",
   "metadata": {},
   "outputs": [],
   "source": [
    "# Create histograms for each group\n",
    "fig, axes = plt.subplots(nrows=2, ncols=3, figsize=(16, 10))\n",
    "\n",
    "df1.groupby('Year')[numeric_column].plot(kind='hist', alpha=0.5, legend=True, ax=axes[0, 0])\n",
    "df1.groupby('Type of Small Public Service Vehicle')[numeric_column].plot(kind='hist', alpha=0.5, legend=True, ax=axes[0, 1])\n",
    "df1.groupby('UNIT')[numeric_column].plot(kind='hist', alpha=0.5, legend=True, ax=axes[0, 2])\n",
    "df1.groupby('County')[numeric_column].plot(kind='hist', alpha=0.5, legend=True, ax=axes[1, 0])\n",
    "\n",
    "# Adjust subplot parameters to remove empty space\n",
    "plt.tight_layout()\n",
    "plt.show()\n"
   ]
  },
  {
   "cell_type": "markdown",
   "id": "e52ea497",
   "metadata": {},
   "source": [
    "This code creates histograms for each group to visualize the distribution of 'VALUE' within each category. It might give you insights into why the correlation values are consistently 1.0. If the histograms show that the 'VALUE' column has constant values within each group, this would explain the correlation of 1.0."
   ]
  },
  {
   "cell_type": "markdown",
   "id": "bbbfdee0",
   "metadata": {},
   "source": [
    "# Loading data: Scotland "
   ]
  },
  {
   "cell_type": "markdown",
   "id": "bda64bb1",
   "metadata": {},
   "source": [
    "\n",
    "To parse the data, given its Open Document Spreadsheet (ODS) format, we'll employ the pandas library in conjunction with the pyexcel-ods library for seamless data retrieval."
   ]
  },
  {
   "cell_type": "code",
   "execution_count": null,
   "id": "5b850fb9",
   "metadata": {},
   "outputs": [],
   "source": [
    "pip install pandas pyexcel-ods\n"
   ]
  },
  {
   "cell_type": "code",
   "execution_count": null,
   "id": "58c1c199",
   "metadata": {},
   "outputs": [],
   "source": [
    "import pandas as pd\n",
    "\n",
    "file_path = 'VehiclesLicensedfortheFirstTimebyTypeofVehicleandYearveh0150TEM01UK.ods'\n",
    "\n",
    "# Load data from the ODS file\n",
    "df_vehicle_license = pd.read_excel(file_path, engine='odf')\n",
    "\n",
    "# Display the first few rows of the DataFrame to verify the data loading\n",
    "print(df_vehicle_license.head())\n",
    "\n"
   ]
  },
  {
   "cell_type": "markdown",
   "id": "81f2d288",
   "metadata": {},
   "source": [
    "The data frame was successfully loaded. The dataset contains information about the number of vehicles in Scotland for different vehicle types over several years."
   ]
  },
  {
   "cell_type": "markdown",
   "id": "3c5f42e0",
   "metadata": {},
   "source": [
    "Let's filter the data for the years 2019 to 2023,  using the following code:\n"
   ]
  },
  {
   "cell_type": "code",
   "execution_count": null,
   "id": "75311966",
   "metadata": {},
   "outputs": [],
   "source": [
    "pip install pyexcel\n"
   ]
  },
  {
   "cell_type": "code",
   "execution_count": null,
   "id": "16d1db45",
   "metadata": {},
   "outputs": [],
   "source": [
    "import pandas as pd\n",
    "import pyexcel_ods as pe\n",
    "\n",
    "file_path = 'VehiclesLicensedfortheFirstTimebyTypeofVehicleandYearveh0150TEM01UK.ods'\n",
    "\n",
    "# Load data from the ODS file\n",
    "data_dict = pe.get_data(file_path)\n",
    "\n",
    "\n",
    "first_sheet_key = list(data_dict.keys())[0]\n",
    "data = data_dict[first_sheet_key]\n",
    "\n",
    "# Convert the data to a Pandas DataFrame\n",
    "df_vehicle_license = pd.DataFrame(data[1:], columns=data[0])\n",
    "\n",
    "# Display the first few rows of the DataFrame to verify the data loading\n",
    "print(df_vehicle_license.head())\n"
   ]
  },
  {
   "cell_type": "code",
   "execution_count": null,
   "id": "4131cae2",
   "metadata": {},
   "outputs": [],
   "source": [
    "# Convert the 'Year' column to numeric values\n",
    "df['Year'] = pd.to_numeric(df['Year'], errors='coerce')\n",
    "\n",
    "# Filter the data for the years 2019 and onwards\n",
    "df_filtered = df[df['Year'] >= 2019]\n",
    "\n",
    "# Display the filtered DataFrame\n",
    "print(df_filtered)\n"
   ]
  },
  {
   "cell_type": "code",
   "execution_count": null,
   "id": "99eded00",
   "metadata": {},
   "outputs": [],
   "source": [
    "df.shape"
   ]
  },
  {
   "cell_type": "markdown",
   "id": "75f2a3f6",
   "metadata": {},
   "source": [
    "Let's observe each column type and its Non-Null count values to analyse if each variable has the correct type and the number of missing values to study further how to handle them, if necessary. More information about the dataset, including its shape, kind of variables, and memory usage, is displayed using the info() function:"
   ]
  },
  {
   "cell_type": "code",
   "execution_count": null,
   "id": "5a1e374b",
   "metadata": {},
   "outputs": [],
   "source": [
    "# Display information about the DataFrame\n",
    "df.info()\n"
   ]
  },
  {
   "cell_type": "markdown",
   "id": "4efe75ac",
   "metadata": {},
   "source": [
    "Here's a summary of the key details:\n",
    "\n",
    "The DataFrame has 4,606 entries (rows) and 5 columns.\n",
    "The columns are named 'STATISTIC Label,' 'Year,' 'Taxation Class,' 'UNIT,' and 'VALUE.'\n",
    "The data types for each column are as follows:\n",
    "'STATISTIC Label' is of type object (likely a string or categorical).\n",
    "'Year' is of type int64 (integer).\n",
    "'Taxation Class' is of type object (probably a string or categorical).\n",
    "'UNIT' is of type object (probably a string or categorical).\n",
    "'VALUE' is of type float64 (floating-point number).\n",
    "The 'VALUE' column has 18 missing values out of 4606 entries."
   ]
  },
  {
   "cell_type": "markdown",
   "id": "f249fd83",
   "metadata": {},
   "source": [
    "# Data Cleaning and Structuring:"
   ]
  },
  {
   "cell_type": "markdown",
   "id": "7fd0cc71",
   "metadata": {},
   "source": [
    "# Handling missing values"
   ]
  },
  {
   "cell_type": "markdown",
   "id": "767e959e",
   "metadata": {},
   "source": [
    "\n",
    "Handling missing values is an important step in the data cleaning process. Let's remove Rows with Missing Values: \n",
    "Due to the limited proportion of rows containing missing values compared to the overall dataset, eliminating them is unlikely to impact your analysis substantially. Therefore, it is advisable to drop these rows from the dataset."
   ]
  },
  {
   "cell_type": "code",
   "execution_count": null,
   "id": "64bdeaad",
   "metadata": {},
   "outputs": [],
   "source": [
    "# Remove rows with missing values in the 'VALUE' column\n",
    "df_cleaned = df.dropna(subset=['VALUE'])\n",
    "\n",
    "# Verify the changes\n",
    "print(df_cleaned.info())\n",
    "\n"
   ]
  },
  {
   "cell_type": "markdown",
   "id": "610fc912",
   "metadata": {},
   "source": [
    "The missing values in the VALUE column have been successfully removed. The cleaned DataFrame df_cleaned now has 4588 entries without any missing values in any of its columns."
   ]
  },
  {
   "cell_type": "markdown",
   "id": "f43498d6",
   "metadata": {},
   "source": [
    "Let's check for and handle duplicates in the dataset. We can use the duplicated() method to identify duplicate rows and then decide on how to handle them."
   ]
  },
  {
   "cell_type": "code",
   "execution_count": null,
   "id": "3a20de67",
   "metadata": {},
   "outputs": [],
   "source": [
    "# Check for duplicate rows in the DataFrame\n",
    "duplicates = df_cleaned.duplicated()\n",
    "\n",
    "# Display the number of duplicate rows\n",
    "print(\"Number of duplicate rows:\", duplicates.sum())\n",
    "\n",
    "# Display the duplicate rows\n",
    "duplicate_rows = df_cleaned[duplicates]\n",
    "print(\"Duplicate rows:\")\n",
    "print(duplicate_rows)\n",
    "\n",
    "# Drop duplicate rows from the DataFrame\n",
    "df_no_duplicates = df_cleaned.drop_duplicates()\n",
    "\n",
    "# Display the shape of the DataFrame after removing duplicates\n",
    "print(\"Shape of DataFrame after removing duplicates:\", df_no_duplicates.shape)\n"
   ]
  },
  {
   "cell_type": "markdown",
   "id": "e6aba170",
   "metadata": {},
   "source": [
    "There are 61 duplicate rows in the dataset. These duplicates have been identified and removed, resulting in a new DataFrame df_no_duplicates with a shape of (4527, 5)."
   ]
  },
  {
   "cell_type": "markdown",
   "id": "6749d9d4",
   "metadata": {},
   "source": [
    "Let's check the number of unique values in each column to identify the diversity of data"
   ]
  },
  {
   "cell_type": "code",
   "execution_count": null,
   "id": "fcfa5485",
   "metadata": {},
   "outputs": [],
   "source": [
    "\n",
    "unique_counts = df_no_duplicates.nunique()\n",
    "\n",
    "# Display unique values for each column\n",
    "for column in df_no_duplicates.columns:\n",
    "    unique_values = df_no_duplicates[column].unique()\n",
    "    print(f\"Unique values in {column}:\", unique_values)\n",
    "\n",
    "# Display the number of unique values in each column\n",
    "print(\"\\nNumber of unique values in each column:\")\n",
    "print(unique_counts)\n",
    "\n"
   ]
  },
  {
   "cell_type": "markdown",
   "id": "dd5c03a0",
   "metadata": {},
   "source": [
    "# Statistics"
   ]
  },
  {
   "cell_type": "code",
   "execution_count": null,
   "id": "0fcf040e",
   "metadata": {},
   "outputs": [],
   "source": [
    "from tabulate import tabulate\n",
    "\n",
    "# Descriptive statistics for numerical columns\n",
    "numerical_stats = df.describe()\n",
    "\n",
    "# Counts of unique values for categorical columns\n",
    "categorical_counts = df['Taxation Class'].value_counts()\n",
    "\n",
    "# Print the results\n",
    "print(\"Descriptive Statistics for Numerical Columns:\")\n",
    "print(numerical_stats)\n",
    "\n",
    "print(\"\\nValue Counts for 'Taxation Class' Column:\")\n",
    "print(categorical_counts)\n"
   ]
  },
  {
   "cell_type": "markdown",
   "id": "d2192c1e",
   "metadata": {},
   "source": [
    "The descriptive statistics for numerical columns (Year and VALUE) provide insights into the central tendency and variability of the data:\n",
    "Year:\n",
    "Count: 4606\n",
    "Mean: 2009.71\n",
    "Standard Deviation: 7.92\n",
    "Minimum: 1996\n",
    "25th Percentile: 2003\n",
    "Median (50th Percentile): 2010\n",
    "75th Percentile: 2017\n",
    "Maximum: 2023\n",
    "VALUE:\n",
    "Count: 4588\n",
    "Mean: 4180.33\n",
    "Standard Deviation: 7067.41\n",
    "Minimum: 14\n",
    "25th Percentile: 233.75\n",
    "Median (50th Percentile): 587.50\n",
    "75th Percentile: 4751.25\n",
    "Maximum: 45463\n",
    "The value counts for the 'Taxation Class' column shows different categories' distribution. Each category appears 329 times in the dataset."
   ]
  },
  {
   "cell_type": "markdown",
   "id": "b75308d5",
   "metadata": {},
   "source": [
    "\n",
    "Let's generate histograms for each numeric column in the DataFrame"
   ]
  },
  {
   "cell_type": "code",
   "execution_count": null,
   "id": "b01074c0",
   "metadata": {},
   "outputs": [],
   "source": [
    "import matplotlib.pyplot as plt\n",
    "import seaborn as sns\n",
    "\n",
    "# Set the style of seaborn for better aesthetics\n",
    "sns.set(style=\"whitegrid\")\n",
    "\n",
    "# Create a figure with subplots\n",
    "fig, axes = plt.subplots(nrows=2, ncols=1, figsize=(10, 8))\n",
    "\n",
    "# Histogram for 'Year' column\n",
    "sns.histplot(df['Year'], bins=range(1995, 2025), kde=False, ax=axes[0])\n",
    "axes[0].set_title('Distribution of Years')\n",
    "axes[0].set_xlabel('Year')\n",
    "axes[0].set_ylabel('Frequency')\n",
    "\n",
    "# Histogram for 'VALUE' column\n",
    "sns.histplot(df['VALUE'], kde=False, ax=axes[1])\n",
    "axes[1].set_title('Distribution of VALUE')\n",
    "axes[1].set_xlabel('VALUE')\n",
    "axes[1].set_ylabel('Frequency')\n",
    "\n",
    "# Adjust layout\n",
    "plt.tight_layout()\n",
    "plt.show()\n"
   ]
  },
  {
   "cell_type": "markdown",
   "id": "654b5b27",
   "metadata": {},
   "source": [
    "This code uses the seaborn library to create histograms for the 'Year' and 'VALUE' columns."
   ]
  },
  {
   "cell_type": "markdown",
   "id": "2caacd38",
   "metadata": {},
   "source": [
    "By examining the boxplots, I can identify the presence of outliers in each numeric column. Outliers are points that fall outside the whiskers of the box, indicating values significantly different from the rest of the distribution. This information is valuable for understanding the data's variability and deciding about further analysis or data preprocessing."
   ]
  },
  {
   "cell_type": "code",
   "execution_count": null,
   "id": "0be72fbc",
   "metadata": {},
   "outputs": [],
   "source": [
    "import matplotlib.pyplot as plt\n",
    "import seaborn as sns\n",
    "\n",
    "# Set the style of seaborn for better aesthetics\n",
    "sns.set(style=\"whitegrid\")\n",
    "\n",
    "# Create a figure with subplots\n",
    "fig, axes = plt.subplots(nrows=2, ncols=1, figsize=(10, 8))\n",
    "\n",
    "# Boxplot for 'Year' column\n",
    "sns.boxplot(x=df['Year'], ax=axes[0])\n",
    "axes[0].set_title('Boxplot of Year')\n",
    "\n",
    "# Boxplot for 'VALUE' column\n",
    "sns.boxplot(x=df['VALUE'], ax=axes[1])\n",
    "axes[1].set_title('Boxplot of VALUE')\n",
    "\n",
    "# Adjust layout\n",
    "plt.tight_layout()\n",
    "plt.show()\n"
   ]
  },
  {
   "cell_type": "code",
   "execution_count": null,
   "id": "4726cb78",
   "metadata": {},
   "outputs": [],
   "source": [
    "# Descriptive statistics for numerical columns\n",
    "numerical_stats = df.describe()\n",
    "\n",
    "# Print the descriptive statistics\n",
    "print(\"Descriptive Statistics for Numerical Columns:\")\n",
    "print(numerical_stats)\n"
   ]
  },
  {
   "cell_type": "markdown",
   "id": "0d6373a7",
   "metadata": {},
   "source": [
    "\n",
    "The descriptive statistics for numerical columns in the DataFrame are as follows:\n",
    "\n",
    "Year:\n",
    "\n",
    "Count: 4606\n",
    "Mean: 2009.71\n",
    "Standard Deviation: 7.92\n",
    "Minimum: 1996\n",
    "25th Percentile: 2003\n",
    "Median (50th Percentile): 2010\n",
    "75th Percentile: 2017\n",
    "Maximum: 2023\n",
    "VALUE:\n",
    "\n",
    "Count: 4588\n",
    "Mean: 4180.33\n",
    "Standard Deviation: 7067.41\n",
    "Minimum: 14\n",
    "25th Percentile: 233.75\n",
    "Median (50th Percentile): 587.5\n",
    "75th Percentile: 4751.25\n",
    "Maximum: 45463\n",
    "These statistics provide insights into the central tendency, spread, and distribution of the numerical data in the DataFrame."
   ]
  },
  {
   "cell_type": "code",
   "execution_count": null,
   "id": "68f004a7",
   "metadata": {},
   "outputs": [],
   "source": [
    "import pandas as pd\n",
    "import matplotlib.pyplot as plt\n",
    "import seaborn as sns\n",
    "\n",
    "# Example DataFrame for demonstration purposes\n",
    "data = {'Year': [2011, 2015, 2018, 2008, 2022, 2011, 2018],\n",
    "        'Value': [3, 5, 8, 4, 9, 2, 6]}\n",
    "df2 = pd.DataFrame(data)\n",
    "\n",
    "# Descriptive statistics for numerical columns\n",
    "desc_stats = df2.describe()\n",
    "\n",
    "# Generate histograms for each column\n",
    "df2.hist(bins=10, figsize=(10, 6))\n",
    "plt.suptitle(\"Histograms for Year and Value Columns\")\n",
    "plt.show()\n",
    "\n",
    "# Generate boxplots for each column\n",
    "plt.figure(figsize=(10, 6))\n",
    "sns.boxplot(data=df2)\n",
    "plt.title(\"Boxplots for Year and Value Columns\")\n",
    "plt.show()\n",
    "\n",
    "# Display descriptive statistics\n",
    "print(desc_stats)\n",
    "\n"
   ]
  },
  {
   "cell_type": "markdown",
   "id": "f0ec1bcf",
   "metadata": {},
   "source": [
    "This code calculates descriptive statistics, generates histograms, and creates boxplots for the 'Year' and 'Value' columns in the provided DataFrame. Adjust the code as needed for your specific DataFrame.\n",
    "\n",
    "\n",
    "\n",
    "\n",
    "\n"
   ]
  },
  {
   "cell_type": "code",
   "execution_count": null,
   "id": "7af9bc40",
   "metadata": {},
   "outputs": [],
   "source": [
    "import pandas as pd\n",
    "\n",
    "# Example DataFrame for demonstration purposes\n",
    "data = {'Year': [2011, 2015, 2018, 2008, 2022, 2011, 2018],\n",
    "        'Value': [3, 5, 8, 4, 9, 2, 6]}\n",
    "df2 = pd.DataFrame(data)\n",
    "\n",
    "# Calculate the pairwise correlation matrix\n",
    "correlation_matrix = df2.corr()\n",
    "\n",
    "# Display the correlation matrix\n",
    "print(\"Pairwise Correlation Matrix:\")\n",
    "print(correlation_matrix)\n"
   ]
  },
  {
   "cell_type": "markdown",
   "id": "81797cd3",
   "metadata": {},
   "source": [
    "The pairwise correlation matrix shows a strong positive correlation (0.886271) between the 'Year' and 'Value' columns in the DataFrame. A correlation value close to 1 indicates a strong positive linear relationship between the two variables. In this case, as the 'Year' increases, the 'Value' also tends to increase."
   ]
  },
  {
   "cell_type": "markdown",
   "id": "f12a4d30",
   "metadata": {},
   "source": [
    "# Outliers"
   ]
  },
  {
   "cell_type": "markdown",
   "id": "dc7d3958",
   "metadata": {},
   "source": [
    "To identify outliers in the 'Value' column of your DataFrame, we can use various methods. One common approach is to use the interquartile range (IQR). Here's an example code that identifies and displays potential outliers:"
   ]
  },
  {
   "cell_type": "code",
   "execution_count": null,
   "id": "cb8478d0",
   "metadata": {},
   "outputs": [],
   "source": [
    "import pandas as pd\n",
    "import seaborn as sns\n",
    "import matplotlib.pyplot as plt\n",
    "\n",
    "# DataFrame for demonstration purposes\n",
    "data = {'Year': [2011, 2015, 2018, 2008, 2022, 2011, 2018],\n",
    "        'Value': [3, 5, 8, 4, 9, 2, 6]}\n",
    "df2 = pd.DataFrame(data)\n",
    "\n",
    "# Calculate the IQR for the 'Value' column\n",
    "Q1 = df2['Value'].quantile(0.25)\n",
    "Q3 = df2['Value'].quantile(0.75)\n",
    "IQR = Q3 - Q1\n",
    "\n",
    "# Define the lower and upper bounds for identifying outliers\n",
    "lower_bound = Q1 - 1.5 * IQR\n",
    "upper_bound = Q3 + 1.5 * IQR\n",
    "\n",
    "# Identify outliers\n",
    "outliers = df2[(df2['Value'] < lower_bound) | (df2['Value'] > upper_bound)]\n",
    "\n",
    "# Display the DataFrame with outliers\n",
    "print(\"DataFrame with Outliers:\")\n",
    "print(outliers)\n",
    "\n",
    "# Visualize the boxplot with potential outliers\n",
    "plt.figure(figsize=(8, 5))\n",
    "sns.boxplot(x=df2['Value'])\n",
    "plt.title(\"Boxplot of 'Value' with Outliers\")\n",
    "plt.show()\n"
   ]
  },
  {
   "cell_type": "markdown",
   "id": "50bf8af3",
   "metadata": {},
   "source": [
    "# Interactive Dashboard Development:"
   ]
  },
  {
   "cell_type": "code",
   "execution_count": null,
   "id": "ddf17133",
   "metadata": {},
   "outputs": [],
   "source": [
    "!pip install dash\n",
    "!pip install dash_core_components\n",
    "!pip install dash_html_components\n",
    "!pip install plotly\n"
   ]
  },
  {
   "cell_type": "code",
   "execution_count": null,
   "id": "962fabe8",
   "metadata": {},
   "outputs": [],
   "source": [
    "pip install odfpy\n"
   ]
  },
  {
   "cell_type": "code",
   "execution_count": null,
   "id": "8c2d9215",
   "metadata": {},
   "outputs": [],
   "source": [
    "import pandas as pd\n",
    "import plotly.express as px\n",
    "import dash\n",
    "import dash_core_components as dcc\n",
    "import dash_html_components as html\n",
    "from dash.dependencies import Input, Output\n",
    "\n",
    "# Loading the ODS dataset\n",
    "# Replace 'VehiclesLicensedfortheFirstTimebyTypeofVehicleandYearveh0150TEM01UK.ods' with the actual file path\n",
    "df = pd.read_excel('VehiclesLicensedfortheFirstTimebyTypeofVehicleandYearveh0150TEM01UK.ods', engine='odf')\n",
    "\n",
    "# Check if 'Date [note 2]' column exists in the DataFrame\n",
    "if 'Date [note 2]' not in df.columns:\n",
    "    raise KeyError(\"The 'Date [note 2]' column is not present in the DataFrame.\")\n",
    "\n",
    "# Initialize the Dash app\n",
    "app = dash.Dash(__name__)\n",
    "\n",
    "# Define the layout of the app\n",
    "app.layout = html.Div(children=[\n",
    "    html.H1(\"Interactive Dashboard\"),\n",
    "    # Add interactive components here (dropdowns, sliders, etc.)\n",
    "    dcc.Dropdown(\n",
    "        id='dropdown',\n",
    "        options=[\n",
    "            {'label': year, 'value': year} for year in df['Date [note 2]'].unique()\n",
    "        ],\n",
    "        value=df['Date [note 2]'].min(),  # Default selected value\n",
    "        placeholder=\"Select a Date\",\n",
    "    ),\n",
    "    # Add interactive plots here\n",
    "    dcc.Graph(id='scatter-plot'),\n",
    "])\n",
    "\n",
    "# Define callback to update the scatter plot based on dropdown selection\n",
    "@app.callback(\n",
    "    Output('scatter-plot', 'figure'),\n",
    "    [Input('dropdown', 'value')]\n",
    ")\n",
    "def update_scatter_plot(selected_date):\n",
    "    # Filter the DataFrame based on the selected date\n",
    "    filtered_df = df[df['Date [note 2]'] == selected_date]\n",
    "    \n",
    "    # Use Plotly Express to create an interactive scatter plot\n",
    "    fig = px.scatter(filtered_df, x='Geography [note 1]', y='Total', color='Units', size='Total', title=f'Scatter Plot - {selected_date}')\n",
    "    return fig\n",
    "\n",
    "# Run the app in 'inline' mode with a different port\n",
    "if __name__ == '__main__':\n",
    "    app.run_server(mode='inline', debug=True, port=8051)\n",
    "\n"
   ]
  },
  {
   "cell_type": "code",
   "execution_count": null,
   "id": "885fcc2a",
   "metadata": {},
   "outputs": [],
   "source": [
    "import pandas as pd\n",
    "\n",
    "# Load your ODS dataset\n",
    "# Replace 'VehiclesLicensedfortheFirstTimebyTypeofVehicleandYearveh0150TEM01UK.ods' with the actual file path\n",
    "df = pd.read_excel('VehiclesLicensedfortheFirstTimebyTypeofVehicleandYearveh0150TEM01UK.ods', engine='odf')\n",
    "\n",
    "# Print the names of all columns\n",
    "print(\"Column names:\", df.columns)\n"
   ]
  },
  {
   "cell_type": "markdown",
   "id": "4d748f12",
   "metadata": {},
   "source": [
    "Based on the given data, no outliers exist in the 'Value' column when using the 1.5 * IQR criterion. This means that all the values in the 'Value' column fall within the acceptable range defined by the lower and upper bounds.\n",
    "The absence of outliers is reflected in the empty DataFrame returned when identifying outliers."
   ]
  },
  {
   "cell_type": "markdown",
   "id": "ebf9f155",
   "metadata": {},
   "source": [
    "# Data Visualization"
   ]
  },
  {
   "cell_type": "markdown",
   "id": "c10d9a3c",
   "metadata": {},
   "source": [
    "To visualize and compare the data for Ireland and Scotland, we can use various plots and charts depending on the nature of the data. Here's an example using line plots to compare the number of vehicles licensed for the first time in Ireland and Scotland over the years:\n"
   ]
  },
  {
   "cell_type": "markdown",
   "id": "5e3383df",
   "metadata": {},
   "source": [
    "\n",
    "Combining the datasets proves advantageous when aiming to conduct a comprehensive analysis, enabling the examination of data collectively and facilitating the comparison of trends or patterns between Ireland and Scotland.\n",
    "To merge these datasets, we need to identify common columns that can serve as keys for merging. The 'Year' column can be used as a common key for merging the datasets based on the provided samples."
   ]
  },
  {
   "cell_type": "code",
   "execution_count": null,
   "id": "d0aa33ce",
   "metadata": {},
   "outputs": [],
   "source": [
    "print(ireland_data.columns)\n"
   ]
  },
  {
   "cell_type": "code",
   "execution_count": null,
   "id": "c0b1749e",
   "metadata": {},
   "outputs": [],
   "source": [
    "\n",
    "ireland_data = pd.read_csv('VehiclesLicensedfortheFirstTimeIreland.csv', delimiter=',', header=0)\n",
    "\n",
    "# Extract the relevant columns\n",
    "ireland_data = ireland_data[['Year', 'Taxation Class', 'UNIT', 'VALUE']]\n",
    "\n",
    "# Print the Ireland dataset to verify the changes\n",
    "print(ireland_data.head())\n",
    "\n",
    "\n"
   ]
  },
  {
   "cell_type": "code",
   "execution_count": null,
   "id": "123c2225",
   "metadata": {},
   "outputs": [],
   "source": [
    "import pandas as pd\n",
    "\n",
    "# Load the first dataset\n",
    "ireland_data = pd.read_csv('VehiclesLicensedfortheFirstTimeIreland.csv')\n",
    "\n",
    "# Extract the relevant columns from the first dataset\n",
    "ireland_data = ireland_data[['Year', 'Taxation Class', 'UNIT', 'VALUE']]\n",
    "\n",
    "# Load the second dataset\n",
    "second_ireland_data = pd.read_csv('Smallpublicservicevehiclesbytypeandcountyoflicensing.csv', delimiter='\\t')\n",
    "\n",
    "# Merge the datasets on the 'Year' column\n",
    "merged_data = pd.merge(ireland_data, second_ireland_data, on='Year', how='inner')\n",
    "\n",
    "# Display the merged dataset\n",
    "print(merged_data.head())\n",
    "\n"
   ]
  },
  {
   "cell_type": "code",
   "execution_count": null,
   "id": "baf39886",
   "metadata": {},
   "outputs": [],
   "source": [
    "# Print column names of the first dataset\n",
    "print(\"Columns of ireland_data:\")\n",
    "print(ireland_data.columns)\n",
    "\n",
    "# Print column names of the second dataset\n",
    "print(\"\\nColumns of second_ireland_data:\")\n",
    "print(second_ireland_data.columns)\n"
   ]
  },
  {
   "cell_type": "markdown",
   "id": "0d6d9229",
   "metadata": {},
   "source": [
    "It appears that the 'Year' column in the second dataset is part of a composite column name. Let's extract the relevant columns from the second dataset and then proceed with the merge. Here's the modified code:"
   ]
  },
  {
   "cell_type": "code",
   "execution_count": null,
   "id": "9f1f609c",
   "metadata": {},
   "outputs": [],
   "source": [
    "import pandas as pd\n",
    "\n",
    "# Load the first dataset\n",
    "ireland_data = pd.read_csv('VehiclesLicensedfortheFirstTimeIreland.csv')\n",
    "\n",
    "# Extract the relevant columns from the first dataset\n",
    "ireland_data = ireland_data[['Year', 'Taxation Class', 'UNIT', 'VALUE']]\n",
    "\n",
    "# Load the second dataset\n",
    "second_ireland_data = pd.read_csv('Smallpublicservicevehiclesbytypeandcountyoflicensing.csv', delimiter=',')\n",
    "\n",
    "# Remove double quotes from column names\n",
    "second_ireland_data.columns = second_ireland_data.columns.str.replace('\"', '')\n",
    "\n",
    "# Print the data types of the 'Year' columns\n",
    "print(\"Data type of 'Year' column in Ireland Data:\", ireland_data['Year'].dtype)\n",
    "print(\"Data type of 'Year' column in Second Ireland Data:\", second_ireland_data['Year'].dtype)\n",
    "\n",
    "# Convert the 'Year' column in the second dataset to the same data type as the first dataset\n",
    "second_ireland_data['Year'] = second_ireland_data['Year'].astype(str)\n",
    "\n",
    "# Print the data types again to verify the conversion\n",
    "print(\"Data type of 'Year' column in Second Ireland Data after conversion:\", second_ireland_data['Year'].dtype)\n",
    "\n",
    "# Extract the relevant columns from the second dataset\n",
    "second_ireland_data = second_ireland_data[['Year', 'County', 'Type of Small Public Service Vehicle', 'UNIT', 'VALUE']]\n",
    "\n",
    "# Merge the datasets on the 'Year' column\n",
    "merged_data = pd.merge(ireland_data, second_ireland_data, on='Year', how='inner')\n",
    "\n",
    "# Display the merged dataset\n",
    "print(merged_data.head())\n"
   ]
  },
  {
   "cell_type": "markdown",
   "id": "ba0e5a36",
   "metadata": {},
   "source": [
    "This code attempts to convert the 'Year' column in the second dataset to the same data type as the 'Year' column in the first dataset before merging."
   ]
  },
  {
   "cell_type": "markdown",
   "id": "78ded73a",
   "metadata": {},
   "source": [
    "However, the merge resulted in an empty DataFrame. This could happen if there are no common values in the 'Year' column between the two datasets.\n",
    "\n",
    "To investigate further, we can check the unique values in the 'Year' columns of both datasets and identify any discrepancies."
   ]
  },
  {
   "cell_type": "code",
   "execution_count": null,
   "id": "01217b92",
   "metadata": {},
   "outputs": [],
   "source": [
    "# Print unique values in the 'Year' column of both datasets\n",
    "print(\"Unique values in 'Year' column of Ireland Data:\", ireland_data['Year'].unique())\n",
    "print(\"Unique values in 'Year' column of Second Ireland Data:\", second_ireland_data['Year'].unique())\n"
   ]
  },
  {
   "cell_type": "markdown",
   "id": "5d88210a",
   "metadata": {},
   "source": [
    "In the 'ireland_data' dataset, the 'Year' column contains values like '1996 July', while in the 'second_ireland_data' dataset, the 'Year' column contains only the years, such as '2019', '2020', '2021', '2022'                                                \n",
    "\n",
    "\n",
    "To resolve this discrepancy, we will create a common representation for the 'Year' column in both datasets before merging. One approach is to extract only the years from the 'ireland_data' dataset. \n"
   ]
  },
  {
   "cell_type": "code",
   "execution_count": null,
   "id": "0643b2a1",
   "metadata": {},
   "outputs": [],
   "source": [
    "# Extract only the years from 'Year' column in ireland_data\n",
    "ireland_data['Year'] = ireland_data['Year'].str.extract('(\\d{4})')\n",
    "\n",
    "# Merge the datasets on the 'Year' column\n",
    "merged_data = pd.merge(ireland_data, second_ireland_data, on='Year', how='inner')\n",
    "\n",
    "# Display the merged dataset\n",
    "print(merged_data.head())\n"
   ]
  },
  {
   "cell_type": "markdown",
   "id": "d902098f",
   "metadata": {},
   "source": [
    "The datasets have been successfully merged based on the 'Year' column. The resulting 'merged_data' DataFrame contains information from the 'ireland_data' and 'second_ireland_data' datasets."
   ]
  },
  {
   "cell_type": "code",
   "execution_count": null,
   "id": "849b3f78",
   "metadata": {},
   "outputs": [],
   "source": [
    "# Save the merged dataset to a new CSV file\n",
    "merged_data.to_csv('merged_dataset.csv', index=False)\n"
   ]
  },
  {
   "cell_type": "code",
   "execution_count": null,
   "id": "408c6f6c",
   "metadata": {},
   "outputs": [],
   "source": [
    "import pandas as pd\n",
    "\n",
    "# Save the merged dataset to a new CSV file named 'Ireland_merged.csv'\n",
    "merged_data.to_csv('Ireland_merged.csv', index=False)\n"
   ]
  },
  {
   "cell_type": "markdown",
   "id": "3003e51d",
   "metadata": {},
   "source": [
    "Let's now merge the 'merged_dataset.csv' file with the 'VehiclesLicensedfortheFirstTimebyTypeofVehicleandYearveh0150TEM01UK.ods' file; we can employ a similar process. However, it's important to note that the two files are in different formats, with 'merged_dataset.csv' being in CSV format and 'VehiclesLicensedfortheFirstTimebyTypeofVehicleandYearveh0150TEM01UK.ods' in ODS (OpenDocument Spreadsheet) format.\n",
    "Consequently, distinct methods are required for reading each file. "
   ]
  },
  {
   "cell_type": "code",
   "execution_count": null,
   "id": "10eda41d",
   "metadata": {},
   "outputs": [],
   "source": [
    "pip install pandas_ods_reader\n"
   ]
  },
  {
   "cell_type": "code",
   "execution_count": null,
   "id": "1d601ad2",
   "metadata": {},
   "outputs": [],
   "source": [
    "\n",
    "final_merged_data = pd.merge(merged_data, ods_data, left_on='County', right_on='Geography [note 1]', how='inner')\n",
    "\n",
    "# Save the final merged dataset to a new CSV file\n",
    "final_merged_data.to_csv('final_merged_dataset.csv', index=False)\n"
   ]
  },
  {
   "cell_type": "code",
   "execution_count": null,
   "id": "8c0ec351",
   "metadata": {},
   "outputs": [],
   "source": [
    "# Display the first few rows of the merged dataset\n",
    "print(final_merged_data.head())\n"
   ]
  },
  {
   "cell_type": "markdown",
   "id": "53b9f5af",
   "metadata": {},
   "source": [
    "To determine the correct column name for merging, we can inspect the columns of the 'ods_data' DataFrame and identify the column that corresponds to the 'Year' column in the 'merged_data' DataFrame."
   ]
  },
  {
   "cell_type": "code",
   "execution_count": null,
   "id": "f4b816d8",
   "metadata": {},
   "outputs": [],
   "source": [
    "print(\"Columns in merged_data:\", merged_data.columns)\n",
    "print(\"Columns in ods_data:\", ods_data.columns)\n"
   ]
  },
  {
   "cell_type": "markdown",
   "id": "297dfc6b",
   "metadata": {},
   "source": [
    "It appears that the 'Year' column is not present in the 'ods_data' DataFrame. In this case, we can use the 'Date [note 2]' column from 'ods_data' for merging with the 'Year' column from 'merged_data'."
   ]
  },
  {
   "cell_type": "code",
   "execution_count": null,
   "id": "ef4b19e7",
   "metadata": {},
   "outputs": [],
   "source": [
    "\n",
    "merged_data['Year'] = merged_data['Year'].astype(str)  type\n",
    "ods_data['Date [note 2]'] = ods_data['Date [note 2]'].astype(str)  \n",
    "\n",
    "\n",
    "final_merged_data = pd.merge(merged_data, ods_data, left_on='Year', right_on='Date [note 2]', how='inner')\n",
    "\n",
    "\n",
    "final_merged_data.to_csv('final_merged_dataset.csv', index=False)\n"
   ]
  },
  {
   "cell_type": "code",
   "execution_count": null,
   "id": "a8d2286e",
   "metadata": {},
   "outputs": [],
   "source": [
    "\n",
    "print(\"Unique values in 'Year' column of merged_data:\", merged_data['Year'].unique())\n",
    "\n",
    "print(\"Unique values in 'Date [note 2]' column of ods_data:\", ods_data['Date [note 2]'].unique())\n"
   ]
  },
  {
   "cell_type": "markdown",
   "id": "c3bd4033",
   "metadata": {},
   "source": [
    "To align the data for merging, we need to create a common column in both DataFrames that represents the year. Let's extract the year from the 'Date [note 2]' column in 'ods_data' and create a new column 'Year' in 'ods_data'. We can then proceed with the merge using this common 'Year' column."
   ]
  },
  {
   "cell_type": "code",
   "execution_count": null,
   "id": "4726a1f4",
   "metadata": {},
   "outputs": [],
   "source": [
    "\n",
    "ods_data['Year'] = ods_data['Date [note 2]'].str.extract('(\\d{4})')\n",
    "\n",
    "\n",
    "print(\"Unique values in 'Year' column of ods_data:\", ods_data['Year'].unique())\n"
   ]
  },
  {
   "cell_type": "markdown",
   "id": "e0c84f36",
   "metadata": {},
   "source": [
    "Now that we have aligned the data by creating a common 'Year' column in both DataFrames, we can proceed with the merge. Here's the updated code:"
   ]
  },
  {
   "cell_type": "code",
   "execution_count": null,
   "id": "d730f7ef",
   "metadata": {},
   "outputs": [],
   "source": [
    "import pandas as pd\n",
    "\n",
    "# Extracting the year from 'Date [note 2]' and creating a new 'Year' column in ods_data\n",
    "ods_data['Year'] = ods_data['Date [note 2]'].str.extract('(\\d{4})')\n",
    "\n",
    "# Ensure 'Year' column is of the same data type in both DataFrames\n",
    "merged_data['Year'] = merged_data['Year'].astype(str) \n",
    "ods_data['Year'] = ods_data['Year'].astype(str)  \n",
    "\n",
    "# Make sure the column names are the same in both DataFrames\n",
    "if 'Year' not in ods_data.columns:\n",
    "    ods_data = ods_data.rename(columns={'your_actual_column_name_in_ods_data': 'Year'})\n",
    "\n",
    "final_merged_data = pd.merge(merged_data, ods_data, on='Year', how='inner')\n",
    "\n",
    "final_merged_data.to_csv('final_data.csv', index=False)\n",
    "\n"
   ]
  },
  {
   "cell_type": "code",
   "execution_count": null,
   "id": "77cd5d8b",
   "metadata": {},
   "outputs": [],
   "source": [
    "# import pandas as pd\n",
    "\n",
    "# Load the final merged dataset\n",
    "final_data = pd.read_csv('final_data.csv')\n",
    "\n",
    "# Display the dataset\n",
    "print(final_data)\n"
   ]
  },
  {
   "cell_type": "markdown",
   "id": "61e36c74",
   "metadata": {},
   "source": [
    "\n",
    "The dataset has been successfully loaded and displayed. It consists of 3,701,376 rows and 19 columns."
   ]
  },
  {
   "cell_type": "markdown",
   "id": "83683d37",
   "metadata": {},
   "source": [
    "To visualize and compare the data for Ireland and Scotland, we can use various plots and charts depending on the nature of the data. Here's an example using line plots to compare the number of vehicles licensed for the first time in Ireland and Scotland over the years:"
   ]
  },
  {
   "cell_type": "markdown",
   "id": "42faac01",
   "metadata": {},
   "source": [
    "# To visualize and compare the number of vehicles licensed for the first time in Ireland and Scotland over the years, you can use line plots"
   ]
  },
  {
   "cell_type": "code",
   "execution_count": null,
   "id": "36d2f09d",
   "metadata": {},
   "outputs": [],
   "source": [
    "print(ireland_data.dtypes)\n",
    "print(ireland_data.isnull().sum())\n"
   ]
  },
  {
   "cell_type": "markdown",
   "id": "a31312d5",
   "metadata": {},
   "source": [
    "\n",
    "The data types are appropriate for the columns, and the dataset has no missing values.\n",
    "Let's try creating the line plot again with the correct columns and data. We will use the final_merged_data DataFrame and create separate plots for Ireland and Scotland. Additionally, I noticed that the 'VALUE_y' column, representing the number of vehicles in ods_data, is of object type. Let's convert it to numeric for plotting. Here's the corrected code:"
   ]
  },
  {
   "cell_type": "markdown",
   "id": "6bf30f97",
   "metadata": {},
   "source": [
    "This code will create separate line plots for Ireland and Scotland, showing the number of vehicles licensed for the first time over the years for different vehicle types."
   ]
  },
  {
   "cell_type": "code",
   "execution_count": null,
   "id": "1ce815ec",
   "metadata": {},
   "outputs": [],
   "source": [
    "\n",
    "print(\"Unique values in 'Type of Small Public Service Vehicle' for Ireland data:\")\n",
    "print(ireland_data['Type of Small Public Service Vehicle'].unique())\n",
    "\n",
    "\n",
    "print(\"\\nUnique values in 'Type of Small Public Service Vehicle' for Scotland data:\")\n",
    "print(scotland_data['Type of Small Public Service Vehicle'].unique())\n"
   ]
  },
  {
   "cell_type": "code",
   "execution_count": null,
   "id": "2b3d2f39",
   "metadata": {},
   "outputs": [],
   "source": [
    "\n",
    "print(\"Unique values in 'Type of Small Public Service Vehicle' for the entire dataset:\")\n",
    "print(final_merged_data['Type of Small Public Service Vehicle'].unique())\n"
   ]
  },
  {
   "cell_type": "markdown",
   "id": "7a378689",
   "metadata": {},
   "source": [
    " It appears that the unique values in the 'Type of Small Public Service Vehicle' column for the entire dataset match the expected values. Given this, there might be an issue with the filtering of the data for Ireland, leading to an empty dataset for Ireland.\n",
    "\n",
    "Let's investigate the 'Geography [note 1]' column in the dataset to understand the unique values and identify any potential discrepancies:"
   ]
  },
  {
   "cell_type": "code",
   "execution_count": null,
   "id": "7c022172",
   "metadata": {},
   "outputs": [],
   "source": [
    "\n",
    "print(\"Unique values in 'Geography [note 1]' column:\")\n",
    "print(final_merged_data['Geography [note 1]'].unique())\n"
   ]
  },
  {
   "cell_type": "code",
   "execution_count": null,
   "id": "7f02c148",
   "metadata": {},
   "outputs": [],
   "source": [
    "\n",
    "print(\"Columns in merged_data:\")\n",
    "print(merged_data.columns)\n",
    "\n",
    "# Display column names in ods_data\n",
    "print(\"\\nColumns in ods_data:\")\n",
    "print(ods_data.columns)\n"
   ]
  },
  {
   "cell_type": "code",
   "execution_count": null,
   "id": "e6d0a3c1",
   "metadata": {},
   "outputs": [],
   "source": [
    "import matplotlib.pyplot as plt\n",
    "from matplotlib.lines import Line2D\n",
    "import seaborn as sns\n",
    "\n",
    "\n",
    "# Drop NaN values in 'Type of Small Public Service Vehicle'\n",
    "ireland_data = ireland_data.dropna(subset=['Type of Small Public Service Vehicle'])\n",
    "scotland_data = scotland_data.dropna(subset=['Type of Small Public Service Vehicle'])\n",
    "\n",
    "# Line plot for Ireland\n",
    "plt.figure(figsize=(12, 6))\n",
    "\n",
    "# Create a dictionary to map colors to vehicle types\n",
    "colors = sns.color_palette('tab10', n_colors=len(ireland_data['Type of Small Public Service Vehicle'].unique()))\n",
    "color_dict = dict(zip(ireland_data['Type of Small Public Service Vehicle'].unique(), colors))\n",
    "\n",
    "# Iterate over unique vehicle types and plot separate lines\n",
    "lines = []\n",
    "for vehicle_type in ireland_data['Type of Small Public Service Vehicle'].unique():\n",
    "    subset_data = ireland_data[ireland_data['Type of Small Public Service Vehicle'] == vehicle_type]\n",
    "    line = plt.plot(subset_data['Year'], subset_data['VALUE_x'], label=f'Ireland - {vehicle_type}', color=color_dict.get(vehicle_type, 'gray'))\n",
    "    lines.append(line[0])\n",
    "\n",
    "# Line plot for Scotland\n",
    "for vehicle_type in scotland_data['Type of Small Public Service Vehicle'].unique():\n",
    "    subset_data = scotland_data[scotland_data['Type of Small Public Service Vehicle'] == vehicle_type]\n",
    "    line = plt.plot(subset_data['Year'], subset_data['VALUE_x'], label=f'Scotland - {vehicle_type}', linestyle='dashed', color=color_dict.get(vehicle_type, 'gray'))\n",
    "\n",
    "# Create a legend using Line2D objects\n",
    "plt.legend(lines, ireland_data['Type of Small Public Service Vehicle'].unique(), title='Vehicle Type')\n",
    "\n",
    "plt.title('Number of Vehicles Licensed for the First Time Over the Years')\n",
    "plt.xlabel('Year')\n",
    "plt.ylabel('Number of Vehicles')\n",
    "plt.show()\n",
    "\n",
    "\n"
   ]
  },
  {
   "cell_type": "markdown",
   "id": "106fb05d",
   "metadata": {},
   "source": [
    "This code provides a visual comparison of the number of licensed small public service vehicles in Ireland and Scotland over the years, "
   ]
  },
  {
   "cell_type": "markdown",
   "id": "c80b64ea",
   "metadata": {},
   "source": [
    "# Descriptive Statistics and Visualizations"
   ]
  },
  {
   "cell_type": "markdown",
   "id": "3c0ecfbe",
   "metadata": {},
   "source": [
    "Let's start with the descriptive statistics and visualizations for the combined dataset of Ireland and Scotland. We'll focus on the number of vehicles licensed (VALUE_x) and break it down by the type of small public service vehicle and year. "
   ]
  },
  {
   "cell_type": "code",
   "execution_count": null,
   "id": "3283d5d6",
   "metadata": {},
   "outputs": [],
   "source": [
    "import matplotlib.pyplot as plt\n",
    "import seaborn as sns\n",
    "\n",
    "# Descriptive Statistics\n",
    "descriptive_stats = final_merged_data.groupby(['Type of Small Public Service Vehicle', 'Year'])['VALUE_x'].describe()\n",
    "print(descriptive_stats)\n",
    "\n",
    "# Visualization - Histogram\n",
    "plt.figure(figsize=(12, 6))\n",
    "sns.histplot(data=final_merged_data, x='VALUE_x', hue='Type of Small Public Service Vehicle', multiple='stack', kde=True)\n",
    "plt.title('Distribution of Vehicles Licensed in Ireland and Scotland')\n",
    "plt.xlabel('Number of Vehicles Licensed')\n",
    "plt.show()\n",
    "\n"
   ]
  },
  {
   "cell_type": "markdown",
   "id": "be8cd753",
   "metadata": {},
   "source": [
    "The descriptive statistics summarise the dataset, including measures such as count, mean, standard deviation, minimum, 25th percentile, median, 75th percentile, and maximum for the number of vehicles licensed in each category (type of small public service vehicle) across different years.\n",
    "The histogram visualizes the distribution of the number of vehicles licensed in Ireland and Scotland for each category. This can give us an overview of the distribution and help identify patterns or differences between the categories.\n",
    "\n",
    "Let's move on to the next step, where we can perform inferential statistics to gain insights into possible population values. If there's a specific variable or hypothesis you would like to explore, please let me know, and we can tailor the analysis accordingly."
   ]
  },
  {
   "cell_type": "markdown",
   "id": "9e9396c6",
   "metadata": {},
   "source": [
    "# Inferential Statistics for Population Values"
   ]
  },
  {
   "cell_type": "markdown",
   "id": "7438cdba",
   "metadata": {},
   "source": [
    "For the inferential statistics step, we can start by exploring hypotheses related to the number of vehicles licensed for different types of small public service vehicles in Ireland and Scotland.\n",
    "Let's formulate a hypothesis and conduct a hypothesis test. For example, we can test whether the mean number of vehicles licensed for \"Taxi\" in Ireland is significantly different from the mean number of vehicles licensed for \"Taxi\" in Scotland.\n",
    "Hypothesis:\n",
    "Null Hypothesis (H0): The mean number of licensed vehicles for \"Taxi\" is the same in Ireland and Scotland.\n",
    "Alternative Hypothesis (H1): The mean number of licensed vehicles for \"Taxi\" differs in Ireland and Scotland."
   ]
  },
  {
   "cell_type": "markdown",
   "id": "9143b14f",
   "metadata": {},
   "source": [
    "Let's proceed with conducting a t-test to compare the mean number of licensed vehicles for \"Taxi\" in Ireland and Scotland."
   ]
  },
  {
   "cell_type": "code",
   "execution_count": null,
   "id": "7e32b051",
   "metadata": {},
   "outputs": [],
   "source": [
    "\n",
    "from scipy import stats\n",
    "\n",
    "# Extract data for \"Taxi\" in Ireland and Scotland\n",
    "ireland_taxi_data = final_merged_data[(final_merged_data['Type of Small Public Service Vehicle'] == 'Taxi') & (final_merged_data['Geography [note 1]'] == 'Ireland')]\n",
    "scotland_taxi_data = final_merged_data[(final_merged_data['Type of Small Public Service Vehicle'] == 'Taxi') & (final_merged_data['Geography [note 1]'] == 'Scotland')]\n",
    "\n",
    "# Perform t-test\n",
    "t_stat, p_value = stats.ttest_ind(ireland_taxi_data['VALUE_x'], scotland_taxi_data['VALUE_x'], equal_var=False)\n",
    "\n",
    "# Display the results\n",
    "print(f\"T-Statistic: {t_stat}\")\n",
    "print(f\"P-Value: {p_value}\")\n"
   ]
  },
  {
   "cell_type": "markdown",
   "id": "60c64e7b",
   "metadata": {},
   "source": [
    "This code will perform an independent samples t-test comparing the number of licensed vehicles for the \"Taxi\" category between Ireland and Scotland in the merged dataset (final_merged_data)."
   ]
  },
  {
   "cell_type": "markdown",
   "id": "4b9896ce",
   "metadata": {},
   "source": [
    "\n",
    "The result of nan for both the t-statistic and p-value may indicate that there might be missing or undefined values in the data, leading to the inability to calculate the t-test. \n",
    "\n",
    "Let's run the following code to inspect the summary statistics and check for missing values in the \"VALUE_x\" column for both Ireland and Scotland Taxi data:"
   ]
  },
  {
   "cell_type": "code",
   "execution_count": null,
   "id": "1bc40705",
   "metadata": {},
   "outputs": [],
   "source": [
    "# Summary statistics for Ireland Taxi data\n",
    "ireland_taxi_summary = ireland_taxi_data['VALUE_x'].describe()\n",
    "print(\"Summary Statistics for Ireland Taxi Data:\")\n",
    "print(ireland_taxi_summary)\n",
    "\n",
    "# Summary statistics for Scotland Taxi data\n",
    "scotland_taxi_summary = scotland_taxi_data['VALUE_x'].describe()\n",
    "print(\"\\nSummary Statistics for Scotland Taxi Data:\")\n",
    "print(scotland_taxi_summary)\n",
    "\n",
    "# Check for missing values\n",
    "print(\"\\nMissing Values in Ireland Taxi Data:\")\n",
    "print(ireland_taxi_data['VALUE_x'].isnull().sum())\n",
    "\n",
    "print(\"\\nMissing Values in Scotland Taxi Data:\")\n",
    "print(scotland_taxi_data['VALUE_x'].isnull().sum())\n"
   ]
  },
  {
   "cell_type": "markdown",
   "id": "7ba70308",
   "metadata": {},
   "source": [
    "The count, mean, and other Ireland Taxi data statistics are unavailable (NaN). This might be why the t-statistic and p-value are also NaN in the t-test.\n",
    "\n",
    "Let's start by examining the Ireland Taxi dataset and checking for any missing or undefined values. "
   ]
  },
  {
   "cell_type": "code",
   "execution_count": null,
   "id": "aca50d56",
   "metadata": {},
   "outputs": [],
   "source": [
    "# Display the first few rows of the Ireland Taxi dataset\n",
    "ireland_taxi_data.head()\n",
    "\n",
    "# Check for missing values in the Ireland Taxi dataset\n",
    "ireland_taxi_data.isnull().sum()\n"
   ]
  },
  {
   "cell_type": "markdown",
   "id": "f9d31881",
   "metadata": {},
   "source": [
    "There are no missing values in the Ireland Taxi dataset. "
   ]
  },
  {
   "cell_type": "code",
   "execution_count": null,
   "id": "c4b7e536",
   "metadata": {},
   "outputs": [],
   "source": [
    "# Summary Statistics for Ireland Taxi Data\n",
    "summary_stats_ireland_taxi = ireland_taxi_data['VALUE_x'].describe()\n",
    "print(\"Summary Statistics for Ireland Taxi Data:\")\n",
    "print(summary_stats_ireland_taxi)\n"
   ]
  },
  {
   "cell_type": "code",
   "execution_count": null,
   "id": "bd452035",
   "metadata": {},
   "outputs": [],
   "source": [
    "print(\"Unique values in 'Type of Small Public Service Vehicle' for Ireland Taxi data:\")\n",
    "print(ireland_taxi_data['Type of Small Public Service Vehicle'].unique())\n"
   ]
  },
  {
   "cell_type": "markdown",
   "id": "51b4c3f3",
   "metadata": {},
   "source": [
    "\n",
    "Since no records for 'Taxi' exist in the Ireland Taxi data, no information is available for this specific category in the dataset. This could be due to various reasons, such as data collection limitations, reporting variations, or the absence of 'Taxi' licenses in the given timeframe and geography. Therefore, we will proceed with other available categories or adjust the analysis accordingly."
   ]
  },
  {
   "cell_type": "markdown",
   "id": "9221c15c",
   "metadata": {},
   "source": [
    "Given the data structure, where we have aggregated statistics (count, mean, std, min, 25%, 50%, 75%, and max) for different types of small public service vehicles over the years, we can visualize these summary statistics to gain insights. A box plot is a suitable choice for this purpose, as it clearly represents the distribution and central tendency of the data.\n",
    "\n",
    "Let's create a box plot for each small public service vehicle type to visualize the summary statistics."
   ]
  },
  {
   "cell_type": "code",
   "execution_count": null,
   "id": "9a038413",
   "metadata": {},
   "outputs": [],
   "source": [
    "import seaborn as sns\n",
    "import matplotlib.pyplot as plt\n",
    "\n",
    "# Create a box plot\n",
    "plt.figure(figsize=(14, 8))\n",
    "sns.boxplot(x='Type of Small Public Service Vehicle', y='VALUE_x', hue='Year', data=final_merged_data)\n",
    "plt.title('Summary Statistics for Small Public Service Vehicles Over the Years')\n",
    "plt.xlabel('Type of Small Public Service Vehicle')\n",
    "plt.ylabel('Count')\n",
    "plt.legend(title='Year')\n",
    "plt.show()\n",
    "\n"
   ]
  },
  {
   "cell_type": "markdown",
   "id": "6ffb4f21",
   "metadata": {},
   "source": [
    "# Independent Samples t-test:"
   ]
  },
  {
   "cell_type": "code",
   "execution_count": null,
   "id": "88fcda53",
   "metadata": {},
   "outputs": [],
   "source": [
    "from scipy import stats\n",
    "\n",
    "ireland_small_public_data = final_merged_data[(final_merged_data['Type of Small Public Service Vehicle'] == 'Small public service vehicles') & (final_merged_data['Geography [note 1]'] == 'Ireland')]\n",
    "scotland_small_public_data = final_merged_data[(final_merged_data['Type of Small Public Service Vehicle'] == 'Small public service vehicles') & (final_merged_data['Geography [note 1]'] == 'Scotland')]\n",
    "\n",
    "t_statistic, p_value = stats.ttest_ind(ireland_small_public_data['VALUE_x'], scotland_small_public_data['VALUE_x'])\n",
    "print(f\"Independent Samples t-test for Small Public Service Vehicles:\\nT-Statistic: {t_statistic}\\nP-Value: {p_value}\")\n"
   ]
  },
  {
   "cell_type": "markdown",
   "id": "bc6f6feb",
   "metadata": {},
   "source": [
    "\n",
    "There might be an issue with the data, resulting in a division by zero or a similar problem. The nan values for the t-statistic and p-value often indicate that there is no variability in one of the groups or that the standard deviation is zero"
   ]
  },
  {
   "cell_type": "code",
   "execution_count": null,
   "id": "6502f7fb",
   "metadata": {},
   "outputs": [],
   "source": [
    "\n",
    "ireland_taxi_data_stats = ireland_taxi_data['VALUE_x'].describe()\n",
    "print(\"Summary Statistics for Ireland Taxi Data:\")\n",
    "print(ireland_taxi_data_stats)\n",
    "\n",
    "scotland_taxi_data_stats = scotland_taxi_data['VALUE_x'].describe()\n",
    "print(\"\\nSummary Statistics for Scotland Taxi Data:\")\n",
    "print(scotland_taxi_data_stats)\n"
   ]
  },
  {
   "cell_type": "code",
   "execution_count": null,
   "id": "06700fc2",
   "metadata": {},
   "outputs": [],
   "source": [
    "# Check the Ireland Taxi Data\n",
    "print(\"Ireland Taxi Data:\")\n",
    "print(ireland_taxi_data)\n"
   ]
  },
  {
   "cell_type": "markdown",
   "id": "114d6cb6",
   "metadata": {},
   "source": [
    "# Chi-Squared Test for Independence:"
   ]
  },
  {
   "cell_type": "markdown",
   "id": "7914c34f",
   "metadata": {},
   "source": [
    "Chi-Squared Test for Independence:\n",
    "Use Case: If you want to examine the independence between two categorical variables, such as the small public service vehicle type and the geography (Ireland or Scotland).\n",
    "Hypothesis:\n",
    "Null Hypothesis (H0): The type of small public service vehicle and geography are independent.\n",
    "Alternative Hypothesis (H1): There is a significant association between the small public service vehicle type and geography."
   ]
  },
  {
   "cell_type": "code",
   "execution_count": null,
   "id": "599eef21",
   "metadata": {},
   "outputs": [],
   "source": [
    "\n",
    "contingency_table = pd.crosstab(final_merged_data['Type of Small Public Service Vehicle'], final_merged_data['Geography [note 1]'])\n",
    "chi2_stat, p_value, dof, expected = stats.chi2_contingency(contingency_table)\n",
    "print(f\"\\nChi-Squared Test for Independence:\\nChi2 Statistic: {chi2_stat}\\nP-Value: {p_value}\")"
   ]
  },
  {
   "cell_type": "markdown",
   "id": "fce5d922",
   "metadata": {},
   "source": [
    "\n",
    "The Chi-Squared Test for Independence resulted in a chi-squared statistic of 0.0 and a p-value of 1.0. This suggests no significant association exists between the variables 'Type of Small Public Service Vehicle' and 'Geography [note 1]' in your dataset. The p-value of 1.0 indicates a lack of evidence to reject the null hypothesis of independence.\n",
    "In simpler terms, the test did not find a statistically significant relationship or dependence between the type of small public service vehicle and the geography (Ireland or Scotland) in the dataset."
   ]
  },
  {
   "cell_type": "code",
   "execution_count": null,
   "id": "5f971902",
   "metadata": {},
   "outputs": [],
   "source": [
    "final_merged_data = pd.read_csv('final_data.csv', low_memory=False)\n",
    "\n"
   ]
  },
  {
   "cell_type": "markdown",
   "id": "d1dd3e88",
   "metadata": {},
   "source": [
    "# ANOVA (Analysis of Variance):"
   ]
  },
  {
   "cell_type": "markdown",
   "id": "9260fcd9",
   "metadata": {},
   "source": [
    "Compare means across multiple groups (countries)."
   ]
  },
  {
   "cell_type": "code",
   "execution_count": null,
   "id": "855d9000",
   "metadata": {},
   "outputs": [],
   "source": [
    "import pandas as pd\n",
    "from scipy.stats import f_oneway\n",
    "\n",
    "# Load dataset\n",
    "final_merged_data = pd.read_csv('final_data.csv', low_memory=False)\n",
    "\n",
    "print(\"Column names in the dataset:\")\n",
    "print(final_merged_data.columns)\n",
    "\n",
    "\n",
    "grouping_column = 'Geography [note 1]'\n",
    "numerical_variable = 'VALUE_x' \n",
    "\n",
    "unique_values = final_merged_data[grouping_column].nunique()\n",
    "if unique_values < 2:\n",
    "    print(\"Not enough unique values in the grouping column. ANOVA requires at least two groups.\")\n",
    "else:\n",
    "  \n",
    "    grouped_data = [group_data[numerical_variable] for group_name, group_data in final_merged_data.groupby(grouping_column)]\n",
    "\n",
    "    # Perform one-way ANOVA\n",
    "    f_statistic, p_value = f_oneway(*grouped_data)\n",
    "\n",
    "    # Print results\n",
    "    print(\"\\nANOVA F-statistic:\", f_statistic)\n",
    "    print(\"ANOVA p-value:\", p_value)\n",
    "\n",
    "    # Check for statistical significance\n",
    "    alpha = 0.05\n",
    "    if p_value < alpha:\n",
    "        print(\"Reject the null hypothesis: There are significant differences between groups.\")\n",
    "    else:\n",
    "        print(\"Fail to reject the null hypothesis: There is no significant difference between groups.\")\n",
    "\n"
   ]
  },
  {
   "cell_type": "markdown",
   "id": "d2a1a49b",
   "metadata": {},
   "source": [
    "The 'Geography [note 1]' column doesn't have enough unique values to perform the ANOVA. In this case, choose another column with more distinct groups.\n",
    "Let's use the 'Type of Small Public Service Vehicle' column as an example. Make sure to replace 'Type of Small Public Service Vehicle' with the actual column name representing groups with more than one unique value. Here's the modified code:"
   ]
  },
  {
   "cell_type": "code",
   "execution_count": null,
   "id": "e64b53d2",
   "metadata": {},
   "outputs": [],
   "source": [
    "import pandas as pd\n",
    "from scipy.stats import f_oneway\n",
    "\n",
    "# Load dataset\n",
    "final_merged_data = pd.read_csv('final_data.csv', low_memory=False)\n",
    "\n",
    "print(\"Column names in the dataset:\")\n",
    "print(final_merged_data.columns)\n",
    "\n",
    "\n",
    "grouping_column = 'Type of Small Public Service Vehicle'\n",
    "numerical_variable = 'VALUE_x'  \n",
    "\n",
    "# Check if there are at least two unique values in the grouping column\n",
    "unique_values = final_merged_data[grouping_column].nunique()\n",
    "if unique_values < 2:\n",
    "    print(\"Not enough unique values in the grouping column. ANOVA requires at least two groups.\")\n",
    "else:\n",
    "    # Create a list of grouped data\n",
    "    grouped_data = [group_data[numerical_variable] for group_name, group_data in final_merged_data.groupby(grouping_column)]\n",
    "\n",
    "    # Perform one-way ANOVA\n",
    "    f_statistic, p_value = f_oneway(*grouped_data)\n",
    "\n",
    "    # Print results\n",
    "    print(\"\\nANOVA F-statistic:\", f_statistic)\n",
    "    print(\"ANOVA p-value:\", p_value)\n",
    "\n",
    "    # Check for statistical significance\n",
    "    alpha = 0.05\n",
    "    if p_value < alpha:\n",
    "        print(\"Reject the null hypothesis: There are significant differences between groups.\")\n",
    "    else:\n",
    "        print(\"Fail to reject the null hypothesis: There is no significant difference between groups.\")\n"
   ]
  },
  {
   "cell_type": "markdown",
   "id": "2ca35efb",
   "metadata": {},
   "source": [
    "The ANOVA results show a very small F-statistic and a p-value of NaN. This often indicates that there might be an issue with the data, such as missing or constant values, causing problems in the statistical analysis."
   ]
  },
  {
   "cell_type": "code",
   "execution_count": null,
   "id": "ca5abd7e",
   "metadata": {},
   "outputs": [],
   "source": [
    "print(\"Missing values in the dataset:\")\n",
    "print(final_merged_data.isnull().sum())\n"
   ]
  },
  {
   "cell_type": "markdown",
   "id": "dc92a2f4",
   "metadata": {},
   "source": [
    "\n",
    "The missing values in the 'VALUE_y' column might be causing issues in the ANOVA analysis. There are several ways to handle missing values, but we will consider imputing them with the mean, median, or another appropriate method in this case. This can be done using the fillna method in pandas."
   ]
  },
  {
   "cell_type": "code",
   "execution_count": null,
   "id": "1a46e922",
   "metadata": {},
   "outputs": [],
   "source": [
    "import pandas as pd\n",
    "from scipy.stats import f_oneway\n",
    "\n",
    "# Load the dataset\n",
    "final_merged_data = pd.read_csv('final_data.csv', low_memory=False)\n",
    "\n",
    "\n",
    "print(\"Column names in the dataset:\")\n",
    "print(final_merged_data.columns)\n",
    "\n",
    "# Convert 'VALUE_y' to numeric, excluding non-numeric values\n",
    "final_merged_data['VALUE_y'] = pd.to_numeric(final_merged_data['VALUE_y'], errors='coerce')\n",
    "\n",
    "# Impute missing values in 'VALUE_y' with the mean\n",
    "final_merged_data['VALUE_y'].fillna(final_merged_data['VALUE_y'].mean(), inplace=True)\n",
    "\n",
    "# Assuming 'Type of Small Public Service Vehicle' as the grouping column\n",
    "grouping_column = 'Type of Small Public Service Vehicle'\n",
    "numerical_variable = 'VALUE_x' \n",
    "\n",
    "\n",
    "unique_values = final_merged_data[grouping_column].nunique()\n",
    "if unique_values < 2:\n",
    "    print(\"Not enough unique values in the grouping column. ANOVA requires at least two groups.\")\n",
    "else:\n",
    "    # Create a list of grouped data\n",
    "    grouped_data = [group_data[numerical_variable] for group_name, group_data in final_merged_data.groupby(grouping_column)]\n",
    "\n",
    "    # Perform one-way ANOVA\n",
    "    f_statistic, p_value = f_oneway(*grouped_data)\n",
    "\n",
    "    # Print results\n",
    "    print(\"\\nANOVA F-statistic:\", f_statistic)\n",
    "    print(\"ANOVA p-value:\", p_value)\n",
    "\n",
    "    # Check for statistical significance\n",
    "    alpha = 0.05\n",
    "    if p_value < alpha:\n",
    "        print(\"Reject the null hypothesis: There are significant differences between groups.\")\n",
    "    else:\n",
    "        print(\"Fail to reject the null hypothesis: There is no significant difference between groups.\")\n",
    "\n"
   ]
  },
  {
   "cell_type": "markdown",
   "id": "6b0a820b",
   "metadata": {},
   "source": [
    "The ANOVA results still indicate an issue, and the p-value is NaN. The presence of NaN in the results might be related to the fact that the data may not be suitable for ANOVA in its current state."
   ]
  },
  {
   "cell_type": "markdown",
   "id": "3b6941ef",
   "metadata": {},
   "source": [
    "# Wilcoxon Rank-Sum Test:"
   ]
  },
  {
   "cell_type": "markdown",
   "id": "12779055",
   "metadata": {},
   "source": [
    "Suppose the ANOVA assumptions are unmet, or we have non-normally distributed data. We are considering using the Wilcoxon rank-sum and/or Mann-Whitney U test to compare two independent groups. The Wilcoxon Rank-Sum Test is a non-parametric test that doesn't assume a normal data distribution. "
   ]
  },
  {
   "cell_type": "code",
   "execution_count": null,
   "id": "11a2d335",
   "metadata": {},
   "outputs": [],
   "source": [
    "import pandas as pd\n",
    "from scipy.stats import ranksums\n",
    "\n",
    "# Load your dataset\n",
    "final_merged_data = pd.read_csv('final_data.csv', low_memory=False)\n",
    "\n",
    "print(\"Column names in the dataset:\")\n",
    "print(final_merged_data.columns)\n",
    "\n",
    "\n",
    "grouping_column = 'Type of Small Public Service Vehicle'\n",
    "numerical_variable = 'VALUE_x' \n",
    "\n",
    "\n",
    "group1 = final_merged_data[final_merged_data[grouping_column] == 'Group1'][numerical_variable]\n",
    "group2 = final_merged_data[final_merged_data[grouping_column] == 'Group2'][numerical_variable]\n",
    "\n",
    "# Check for missing values\n",
    "missing_values_exist = group1.isnull().any() or group2.isnull().any()\n",
    "\n",
    "# Check for constant values\n",
    "constant_values_exist = group1.nunique() == 1 or group2.nunique() == 1\n",
    "\n",
    "if missing_values_exist or constant_values_exist:\n",
    "    print(\"Warning: Missing or constant values detected. The test may not be informative with missing or constant values.\")\n",
    "else:\n",
    "    # Drop rows with missing values\n",
    "    group1 = group1.dropna()\n",
    "    group2 = group2.dropna()\n",
    "\n",
    "    # Perform Wilcoxon Rank-Sum Test\n",
    "    statistic, p_value = ranksums(group1, group2)\n",
    "\n",
    "    # Print results\n",
    "    print(\"\\nWilcoxon Rank-Sum Test statistic:\", statistic)\n",
    "    print(\"Wilcoxon Rank-Sum Test p-value:\", p_value)\n",
    "\n",
    "    # Check for statistical significance\n",
    "    alpha = 0.05\n",
    "    if p_value < alpha:\n",
    "        print(\"Reject the null hypothesis: There is a significant difference between groups.\")\n",
    "    else:\n",
    "        print(\"Fail to reject the null hypothesis: There is no significant difference between groups.\")\n"
   ]
  },
  {
   "cell_type": "markdown",
   "id": "fd348d30",
   "metadata": {},
   "source": [
    "The Wilcoxon Rank-Sum Test results indicate that the test statistic and p-value are both 'nan' (not a number). This typically happens when there is an issue with the data, such as missing values, constant values within the groups, or petite sample sizes."
   ]
  },
  {
   "cell_type": "code",
   "execution_count": null,
   "id": "058c6922",
   "metadata": {},
   "outputs": [],
   "source": [
    "import pandas as pd\n",
    "from scipy.stats import ranksums\n",
    "\n",
    "# Load your dataset\n",
    "final_merged_data = pd.read_csv('final_data.csv', low_memory=False)\n",
    "\n",
    "# Assuming 'Type of Small Public Service Vehicle' as the grouping column\n",
    "grouping_column = 'Type of Small Public Service Vehicle'\n",
    "numerical_variable = 'VALUE_x'  # or 'VALUE_y' depending on your preference\n",
    "\n",
    "# Extract data for each group\n",
    "group1 = final_merged_data[final_merged_data[grouping_column] == 'Group1'][numerical_variable]\n",
    "group2 = final_merged_data[final_merged_data[grouping_column] == 'Group2'][numerical_variable]\n",
    "\n",
    "# Drop rows with missing values\n",
    "group1 = group1.dropna()\n",
    "group2 = group2.dropna()\n",
    "\n",
    "# Perform Wilcoxon Rank-Sum Test\n",
    "statistic, p_value = ranksums(group1, group2)\n",
    "\n",
    "# Print results\n",
    "print(\"\\nWilcoxon Rank-Sum Test statistic:\", statistic)\n",
    "print(\"Wilcoxon Rank-Sum Test p-value:\", p_value)\n",
    "\n",
    "# Check for statistical significance\n",
    "alpha = 0.05\n",
    "if p_value < alpha:\n",
    "    print(\"Reject the null hypothesis: There is a significant difference between groups.\")\n",
    "else:\n",
    "    print(\"Fail to reject the null hypothesis: There is no significant difference between groups.\")\n"
   ]
  },
  {
   "cell_type": "markdown",
   "id": "18a24bca",
   "metadata": {},
   "source": [
    "# Mann-Whitney U Test:"
   ]
  },
  {
   "cell_type": "markdown",
   "id": "262d732a",
   "metadata": {},
   "source": [
    "Non-parametric alternative to the t-test for comparing distributions.Test is used to compare two independent groups when the assumptions of normality are not met."
   ]
  },
  {
   "cell_type": "code",
   "execution_count": null,
   "id": "7a4a864b",
   "metadata": {},
   "outputs": [],
   "source": [
    "import pandas as pd\n",
    "from scipy.stats import mannwhitneyu\n",
    "\n",
    "# Load your dataset\n",
    "final_merged_data = pd.read_csv('final_data.csv', low_memory=False)\n",
    "\n",
    "\n",
    "print(\"Column names in the dataset:\")\n",
    "print(final_merged_data.columns)\n",
    "\n",
    "\n",
    "grouping_column = 'Type of Small Public Service Vehicle'\n",
    "numerical_variable = 'VALUE_x' \n",
    "\n",
    "# Extract data for each group\n",
    "group1 = final_merged_data[final_merged_data[grouping_column] == 'Group1'][numerical_variable]\n",
    "group2 = final_merged_data[final_merged_data[grouping_column] == 'Group2'][numerical_variable]\n",
    "\n",
    "# Drop rows with missing values\n",
    "group1 = group1.dropna()\n",
    "group2 = group2.dropna()\n",
    "\n",
    "# Check if groups have a nonzero size\n",
    "if len(group1) == 0 or len(group2) == 0:\n",
    "    print(\"Warning: One or both groups have a size of zero. Unable to perform Mann-Whitney U Test.\")\n",
    "else:\n",
    "    # Perform Mann-Whitney U Test\n",
    "    statistic, p_value = mannwhitneyu(group1, group2)\n",
    "\n",
    "    # Print results\n",
    "    print(\"\\nMann-Whitney U Test statistic:\", statistic)\n",
    "    print(\"Mann-Whitney U Test p-value:\", p_value)\n",
    "\n",
    "    # Check for statistical significance\n",
    "    alpha = 0.05\n",
    "    if p_value < alpha:\n",
    "        print(\"Reject the null hypothesis: There is a significant difference between groups.\")\n",
    "    else:\n",
    "        print(\"Fail to reject the null hypothesis: There is no significant difference between groups.\")\n",
    "\n",
    "\n",
    "\n"
   ]
  },
  {
   "cell_type": "markdown",
   "id": "141e43c0",
   "metadata": {},
   "source": [
    "This indicates that one or both groups have a size of zero, which means that no data is available for one or both groups you are trying to compare. This could happen for several reasons, such as filtering conditions that result in empty groups or missing values in your numerical variable.\n",
    "To address this issue, you should investigate why the groups have zero size. "
   ]
  },
  {
   "cell_type": "code",
   "execution_count": null,
   "id": "e973c159",
   "metadata": {},
   "outputs": [],
   "source": [
    "print(\"Size of group1:\", len(group1))\n",
    "print(\"Size of group2:\", len(group2))\n"
   ]
  },
  {
   "cell_type": "code",
   "execution_count": null,
   "id": "9c7b15ff",
   "metadata": {},
   "outputs": [],
   "source": [
    "# Print a sample of data for 'group1'\n",
    "print(\"Sample data for group1:\")\n",
    "print(final_merged_data[final_merged_data[grouping_column] == 'Group1'])\n",
    "\n",
    "# Print a sample of data for 'group2'\n",
    "print(\"Sample data for group2:\")\n",
    "print(final_merged_data[final_merged_data[grouping_column] == 'Group2'])\n"
   ]
  },
  {
   "cell_type": "markdown",
   "id": "96718417",
   "metadata": {},
   "source": [
    "\n",
    "The sample data for Group 1 and Group 2 are empty, indicating that no data in the dataset satisfies the conditions specified for these groups. "
   ]
  },
  {
   "cell_type": "markdown",
   "id": "95c6fc65",
   "metadata": {},
   "source": [
    "Examine Data Distribution:\n",
    "Check the distribution of values in the 'VALUE_x' or 'VALUE_y' columns to ensure there is variability and data for the groups."
   ]
  },
  {
   "cell_type": "code",
   "execution_count": null,
   "id": "f5bdd9ed",
   "metadata": {},
   "outputs": [],
   "source": [
    "print(\"Distribution of 'VALUE_x':\", final_merged_data['VALUE_x'].describe())\n"
   ]
  },
  {
   "cell_type": "markdown",
   "id": "afd0b219",
   "metadata": {},
   "source": [
    "\n",
    "The statistics show data points in the 'VALUE_x' column, and the values vary across the dataset. Since data is available, the issue may lie in the conditions used for grouping."
   ]
  },
  {
   "cell_type": "code",
   "execution_count": null,
   "id": "9bfede10",
   "metadata": {},
   "outputs": [],
   "source": [
    "print(\"Unique values in 'Type of Small Public Service Vehicle':\", final_merged_data['Type of Small Public Service Vehicle'].unique())\n"
   ]
  },
  {
   "cell_type": "code",
   "execution_count": null,
   "id": "0c513067",
   "metadata": {},
   "outputs": [],
   "source": [
    "\n",
    "group1 = final_merged_data[final_merged_data['Type of Small Public Service Vehicle'].isin(['Taxi'])]['VALUE_x']\n",
    "group2 = final_merged_data[final_merged_data['Type of Small Public Service Vehicle'].isin(['Limousine'])]['VALUE_x']\n"
   ]
  },
  {
   "cell_type": "code",
   "execution_count": null,
   "id": "3c0ee983",
   "metadata": {},
   "outputs": [],
   "source": [
    "print(\"Size of group1:\", len(group1))\n",
    "print(\"Size of group2:\", len(group2))\n"
   ]
  },
  {
   "cell_type": "code",
   "execution_count": null,
   "id": "3b6dcc12",
   "metadata": {},
   "outputs": [],
   "source": [
    "from scipy.stats import mannwhitneyu\n",
    "\n",
    "# Perform Mann-Whitney U Test\n",
    "statistic, p_value = mannwhitneyu(group1, group2)\n",
    "\n",
    "# Print results\n",
    "print(\"\\nMann-Whitney U Test statistic:\", statistic)\n",
    "print(\"Mann-Whitney U Test p-value:\", p_value)\n",
    "\n",
    "# Interpret the results\n",
    "if p_value < 0.05:\n",
    "    print(\"Reject the null hypothesis: There is a significant difference between groups.\")\n",
    "else:\n",
    "    print(\"Fail to reject the null hypothesis: There is no significant difference between groups.\")\n"
   ]
  },
  {
   "cell_type": "markdown",
   "id": "6fd65dce",
   "metadata": {},
   "source": [
    "The Mann-Whitney U Test results indicate a significant test statistic (Mann-Whitney U Test statistic: 190,280,337,408.0) and a p-value of 1.0. The p-value is equal to the commonly used significance level of 0.05. Therefore, you fail to reject the null hypothesis, suggesting no significant difference between the two groups.\n",
    "Interpreting the results:\n",
    "Mann-Whitney U Test Statistic: This value represents the U statistic calculated by the test. It is large in your case, which generally indicates little difference between the two groups.\n",
    "P-value: The p-value is the probability of obtaining a test statistic as extreme as the one observed, assuming that the null hypothesis is true. A p-value of 1.0 suggests that the observed results will likely occur under the null hypothesis.\n",
    "Null Hypothesis (H0): The null hypothesis typically states no significant difference between the groups.\n",
    "Given the high p-value, we do not have sufficient evidence to conclude that there is a significant difference in the 'VALUE_x' variable between the two groups."
   ]
  },
  {
   "cell_type": "markdown",
   "id": "9c149c86",
   "metadata": {},
   "source": [
    "Let's explore hypotheses related to the number of vehicles licensed per year between two countries using inferential statistics for population values.\n"
   ]
  },
  {
   "cell_type": "code",
   "execution_count": null,
   "id": "00892620",
   "metadata": {},
   "outputs": [],
   "source": [
    "import pandas as pd\n",
    "\n",
    "# Load the dataset with low_memory=False\n",
    "final_data = pd.read_csv('final_data.csv', low_memory=False)\n"
   ]
  },
  {
   "cell_type": "markdown",
   "id": "6f6026e2",
   "metadata": {},
   "source": [
    "Explore the Data:\n",
    "Take a look at the structure and content of the dataset to understand the available columns and values:\n",
    "\n"
   ]
  },
  {
   "cell_type": "code",
   "execution_count": null,
   "id": "15abf046",
   "metadata": {},
   "outputs": [],
   "source": [
    "import pandas as pd\n",
    "\n",
    "# Load the dataset with low_memory=False\n",
    "final_data = pd.read_csv('final_data.csv', low_memory=False)\n",
    "\n",
    "# Check the first few rows of the dataframe\n",
    "print(final_data.head())\n",
    "\n",
    "# Check the unique values in the 'Geography [note 1]' column\n",
    "print(final_data['Geography [note 1]'].unique())\n",
    "\n"
   ]
  },
  {
   "cell_type": "markdown",
   "id": "2caf4a9e",
   "metadata": {},
   "source": [
    "The 'Geography [note 1]' column contains information about different counties in Ireland. To simplify the analysis and consider the entire country, we can create a new column named 'Country' and set its value to 'Ireland' for all rows. "
   ]
  },
  {
   "cell_type": "code",
   "execution_count": null,
   "id": "2b4a952a",
   "metadata": {},
   "outputs": [],
   "source": [
    "final_data['Country'] = 'Ireland'\n"
   ]
  },
  {
   "cell_type": "code",
   "execution_count": null,
   "id": "afacc14b",
   "metadata": {},
   "outputs": [],
   "source": [
    "final_data.to_csv('final.csv', index=False)\n"
   ]
  },
  {
   "cell_type": "code",
   "execution_count": null,
   "id": "9389bf42",
   "metadata": {},
   "outputs": [],
   "source": [
    "# Display the first 5 rows of the DataFrame\n",
    "print(final_data.head())\n",
    "\n",
    "# Display the last 5 rows of the DataFrame\n",
    "print(final_data.tail())\n"
   ]
  },
  {
   "cell_type": "markdown",
   "id": "5dcf761f",
   "metadata": {},
   "source": [
    "\n",
    "The data has been updated with a new \"Country\" column, and the values for the \"County\" column have been standardized to \"Ireland\" where applicable. Here is a truncated view of both the head and tail of the updated DataFrame:"
   ]
  },
  {
   "cell_type": "markdown",
   "id": "a8c2dffe",
   "metadata": {},
   "source": [
    "# Formulate Hypotheses:"
   ]
  },
  {
   "cell_type": "markdown",
   "id": "807e0621",
   "metadata": {},
   "source": [
    "Based on this research we want to compare the mean number of vehicles licensed per year between two countries: \n",
    "\n",
    "\n",
    "\n",
    "To formulate hypotheses for comparing the mean number of vehicles licensed per year between two countries, we can use the following null hypothesis (H0) and alternative hypothesis (H1):\n",
    "Null Hypothesis (H0):\n",
    "There is no significant difference in the mean number of vehicles licensed per year between the two countries.\n",
    "Alternative Hypothesis (H1):\n",
    "There is a significant difference in the mean number of vehicles licensed per year between the two countries.\n"
   ]
  },
  {
   "cell_type": "markdown",
   "id": "2afd0bb5",
   "metadata": {},
   "source": [
    " Let's compare the mean number of vehicles licensed per year between Ireland and Scotland.\n",
    "After that, we will perform a statistical test, such as a t-test or ANOVA, to determine if there is a significant difference in the mean number of vehicles licensed per year between Ireland and Scotland.\n"
   ]
  },
  {
   "cell_type": "code",
   "execution_count": null,
   "id": "0ea42a1c",
   "metadata": {},
   "outputs": [],
   "source": [
    "pip install pandas numpy scipy\n"
   ]
  },
  {
   "cell_type": "code",
   "execution_count": null,
   "id": "1a078132",
   "metadata": {},
   "outputs": [],
   "source": [
    "import pandas as pd\n",
    "from scipy.stats import ttest_ind\n",
    "\n",
    "\n",
    "\n",
    "aggregated_data = final_data.groupby(['Country', 'Year'])['VALUE_x'].mean().reset_index()\n",
    "\n",
    "# Create subsets for Ireland and Scotland\n",
    "ireland_data = aggregated_data[aggregated_data['Country'] == 'Ireland']['VALUE_x']\n",
    "scotland_data = aggregated_data[aggregated_data['Country'] == 'Scotland']['VALUE_x']\n",
    "\n",
    "# Perform t-test\n",
    "t_statistic, p_value = ttest_ind(ireland_data, scotland_data, equal_var=False)\n",
    "\n",
    "# Output the results\n",
    "print(f\"T-Statistic: {t_statistic}\")\n",
    "print(f\"P-Value: {p_value}\")\n",
    "\n",
    "# Check if the difference is statistically significant\n",
    "alpha = 0.05\n",
    "if p_value < alpha:\n",
    "    print(\"Reject the null hypothesis: There is a significant difference.\")\n",
    "else:\n",
    "    print(\"Fail to reject the null hypothesis: There is no significant difference.\")\n"
   ]
  },
  {
   "cell_type": "markdown",
   "id": "b89fe409",
   "metadata": {},
   "source": [
    "\n",
    "The output suggests that the t-statistic and p-value are both \"nan,\" which typically occurs when the data has missing or infinite values. This might be due to missing or non-numeric values in the 'VALUE_x' column for either Ireland or Scotland."
   ]
  },
  {
   "cell_type": "markdown",
   "id": "c1839716",
   "metadata": {},
   "source": [
    "Let's investigate further to identify and handle any missing or non-numeric values. "
   ]
  },
  {
   "cell_type": "code",
   "execution_count": null,
   "id": "866d3234",
   "metadata": {},
   "outputs": [],
   "source": [
    "# Check for missing or non-numeric values in the 'VALUE_x' column\n",
    "missing_values = final_data['VALUE_x'].loc[final_data['VALUE_x'].notnull() & ~final_data['VALUE_x'].astype(str).str.isnumeric()]\n",
    "\n",
    "# Output the missing values\n",
    "print(\"Missing or non-numeric values in 'VALUE_x' column:\")\n",
    "print(missing_values)\n"
   ]
  },
  {
   "cell_type": "markdown",
   "id": "e169839f",
   "metadata": {},
   "source": [
    "\n",
    "There are no missing or non-numeric values in the 'VALUE_x' column. The values are all numeric, as expected.\n",
    "The issue might be related to calculating the t-statistic and p-value in the t-test. It's essential to ensure that the data used in the test is appropriate. Let's try a different approach to compare the mean number of vehicles licensed per year between Ireland and Scotland."
   ]
  },
  {
   "cell_type": "code",
   "execution_count": null,
   "id": "3c4ef0d9",
   "metadata": {},
   "outputs": [],
   "source": [
    "# Check for missing or non-numeric values in 'VALUE_x' for Ireland\n",
    "print(\"Ireland Missing or non-numeric values in 'VALUE_x':\")\n",
    "print(final_data[final_data['Country'] == 'Ireland']['VALUE_x'].dropna())\n",
    "\n",
    "# Check for missing or non-numeric values in 'VALUE_x' for Scotland\n",
    "print(\"\\nScotland Missing or non-numeric values in 'VALUE_x':\")\n",
    "print(final_data[final_data['Country'] == 'Scotland']['VALUE_x'].dropna())\n",
    "\n",
    "# Check the number of data points for each country\n",
    "print(\"\\nNumber of data points for Ireland:\", len(ireland_data))\n",
    "print(\"Number of data points for Scotland:\", len(scotland_data))\n",
    "\n"
   ]
  },
  {
   "cell_type": "markdown",
   "id": "1f164261",
   "metadata": {},
   "source": [
    "There are no missing or non-numeric values in Ireland and Scotland's 'VALUE_x' column. However, the number of data points for Scotland is reported as 0. This could be an issue, and we need to investigate further.\n",
    "It's possible that there might be a filter applied or an error in the data processing steps. Let's check the unique values in the 'Country' column and investigate why there are no data points for Scotland:\n"
   ]
  },
  {
   "cell_type": "code",
   "execution_count": null,
   "id": "463cf668",
   "metadata": {},
   "outputs": [],
   "source": [
    "# Check the unique values in the 'Country' column\n",
    "print(\"Unique values in 'Country' column:\", final_data['Country'].unique())\n"
   ]
  },
  {
   "cell_type": "markdown",
   "id": "fa85dc31",
   "metadata": {},
   "source": [
    "\n",
    "The unique values in the 'Country' column are only 'Ireland', suggesting that the data contains information only for Ireland and not Scotland. This explains why there are no data points for Scotland.\n",
    "There might have been an error or a mistake in the data processing or filtering steps. "
   ]
  },
  {
   "cell_type": "markdown",
   "id": "6140c67a",
   "metadata": {},
   "source": [
    "# Separate Data by Country:"
   ]
  },
  {
   "cell_type": "code",
   "execution_count": null,
   "id": "f0078ce5",
   "metadata": {},
   "outputs": [],
   "source": [
    "# Print column names for Scotland dataset\n",
    "print(\"Column names in Scotland dataset:\")\n",
    "print(scotland_data.columns)\n"
   ]
  },
  {
   "cell_type": "code",
   "execution_count": null,
   "id": "f165b9e9",
   "metadata": {},
   "outputs": [],
   "source": [
    "import pandas as pd\n",
    "from scipy.stats import ttest_ind\n",
    "\n",
    "# Load the datasets\n",
    "scotland_data = pd.read_excel(\"VehiclesLicensedfortheFirstTimebyTypeofVehicleandYearveh0150TEM01UK.ods\", engine=\"odf\")\n",
    "ireland_data = pd.read_csv(\"VehiclesLicensedfortheFirstTimeIreland.csv\")\n",
    "\n",
    "# Display the first few rows of each dataset\n",
    "print(\"Scotland Data:\")\n",
    "print(scotland_data.head())\n",
    "\n",
    "print(\"\\nIreland Data:\")\n",
    "print(ireland_data.head())\n",
    "\n",
    "# Data Cleaning\n",
    "scotland_data['VALUE_x'] = pd.to_numeric(scotland_data['Cars'], errors='coerce')\n",
    "ireland_data['VALUE_x'] = pd.to_numeric(ireland_data['VALUE'], errors='coerce')\n",
    "\n",
    "\n",
    "# Data Comparison\n",
    "print(\"\\nMissing or non-numeric values in 'VALUE_x' column:\")\n",
    "print(\"Scotland\", scotland_data['VALUE_x'].loc[scotland_data['VALUE_x'].isna()])\n",
    "print(\"Ireland\", ireland_data['VALUE_x'].loc[ireland_data['VALUE_x'].isna()])\n",
    "\n",
    "# Summary Statistics\n",
    "print(\"\\nSummary Statistics:\")\n",
    "print(\"Scotland\\n\", scotland_data['VALUE_x'].describe())\n",
    "print(\"Ireland\\n\", ireland_data['VALUE_x'].describe())\n",
    "\n",
    "# Hypothesis Testing\n",
    "t_statistic, p_value = ttest_ind(scotland_data['VALUE_x'].dropna(), ireland_data['VALUE_x'].dropna())\n",
    "\n",
    "# Results\n",
    "print(\"\\nT-Statistic:\", t_statistic)\n",
    "print(\"P-Value:\", p_value)\n",
    "\n",
    "# Interpretation\n",
    "if pd.isna(t_statistic) or pd.isna(p_value):\n",
    "    print(\"Unable to perform the statistical test due to missing or non-numeric values.\")\n",
    "else:\n",
    "    if p_value < 0.05:\n",
    "        print(\"Reject the null hypothesis: There is a significant difference.\")\n",
    "    else:\n",
    "        print(\"Fail to reject the null hypothesis: There is no significant difference.\")\n"
   ]
  },
  {
   "cell_type": "markdown",
   "id": "817a3772",
   "metadata": {},
   "source": [
    "The data was cleaned, missing or non-numeric values were addressed, and a statistical test was performed. The T-statistic and P-value indicate a significant difference between the mean values for the two datasets.\n",
    "Here's a summary:\n",
    "T-Statistic: -16.208772314191094\n",
    "P-Value: 1.0131141461434524e-57\n",
    "Since the P-value is near zero, you reject the null hypothesis, suggesting a significant difference in the mean number of vehicles licensed per year between Scotland and Ireland."
   ]
  },
  {
   "cell_type": "markdown",
   "id": "5ef22f0a",
   "metadata": {},
   "source": [
    "# Explore Data Patterns:"
   ]
  },
  {
   "cell_type": "markdown",
   "id": "a6f713c3",
   "metadata": {},
   "source": [
    "Visualize the data: Create plots or charts to visualize the dataset's trends, patterns, or outliers.\n",
    "Explore relationships: Check if there are any correlations between variables.\n",
    "\n",
    "\n",
    "\n",
    "Let's start by visualizing the data. Since we have the mean number of vehicles licensed per year for both Scotland and Ireland, we can create line plots to observe the trends over time. We'll use the matplotlib library for this. \n"
   ]
  },
  {
   "cell_type": "code",
   "execution_count": null,
   "id": "def8ba83",
   "metadata": {},
   "outputs": [],
   "source": [
    "pip install matplotlib\n"
   ]
  },
  {
   "cell_type": "markdown",
   "id": "def69a7f",
   "metadata": {},
   "source": [
    "Now, let's create line plots for both Scotland and Ireland data."
   ]
  },
  {
   "cell_type": "code",
   "execution_count": null,
   "id": "84e8295a",
   "metadata": {},
   "outputs": [],
   "source": [
    "import matplotlib.pyplot as plt\n",
    "\n",
    "# Line plot for Scotland\n",
    "plt.figure(figsize=(12, 6))\n",
    "plt.plot(scotland_data['Date [note 2]'], scotland_data['VALUE_x'], label='Scotland', marker='o')\n",
    "plt.xlabel('Year')\n",
    "plt.ylabel('Mean Number of Vehicles Licensed')\n",
    "plt.title('Mean Number of Vehicles Licensed per Year - Scotland')\n",
    "plt.legend()\n",
    "plt.grid(True)\n",
    "plt.show()\n",
    "\n",
    "# Line plot for Ireland\n",
    "plt.figure(figsize=(12, 6))\n",
    "plt.plot(ireland_data['Year'], ireland_data['VALUE_x'], label='Ireland', marker='o', color='orange')\n",
    "plt.xlabel('Year')\n",
    "plt.ylabel('Mean Number of Vehicles Licensed')\n",
    "plt.title('Mean Number of Vehicles Licensed per Year - Ireland')\n",
    "plt.legend()\n",
    "plt.grid(True)\n",
    "plt.show()\n"
   ]
  },
  {
   "cell_type": "markdown",
   "id": "f4640ca0",
   "metadata": {},
   "source": [
    "Let's interpret the line plots for Scotland and Ireland:\n",
    "Scotland:\n",
    "The line plot for Scotland shows the mean number of vehicles licensed per year from 2001 to 2005.\n",
    "There is a general decreasing trend in the mean number of vehicles licensed over the years, with a notable dip around 2004.\n",
    "The trend suggests a decline in the number of vehicles being licensed annually during this period.\n",
    "Ireland:\n",
    "The line plot for Ireland displays the mean number of vehicles licensed per year from 1996 to the present.\n",
    "There is a substantial increase in the mean number of vehicles licensed over the years, with some fluctuations.\n",
    "The trend suggests a rising pattern in the number of vehicles being licensed annually in Ireland."
   ]
  },
  {
   "cell_type": "markdown",
   "id": "508374e0",
   "metadata": {},
   "source": [
    "# Correlations between variables"
   ]
  },
  {
   "cell_type": "markdown",
   "id": "d8446810",
   "metadata": {},
   "source": [
    "\n",
    "To explore relationships and check for correlations between variables, we can calculate the correlation coefficients. Correlation coefficients measure the strength and direction of a linear relationship between two variables. Let's calculate the correlation matrix for the relevant variables in the Scotland and Ireland datasets."
   ]
  },
  {
   "cell_type": "code",
   "execution_count": null,
   "id": "4197a15c",
   "metadata": {},
   "outputs": [],
   "source": [
    "# Correlation matrix for Scotland dataset\n",
    "scotland_corr = scotland_data[['Cars', 'Motorcycles', 'Light goods vehicles', 'Heavy goods vehicles', 'Buses and coaches', 'Other vehicles [note 3]', 'Total', 'VALUE_x']].corr()\n",
    "\n",
    "# Correlation matrix for Ireland dataset\n",
    "ireland_corr = ireland_data[['VALUE_x']].corr()\n",
    "\n",
    "print(\"Correlation Matrix for Scotland:\")\n",
    "print(scotland_corr)\n",
    "\n",
    "print(\"\\nCorrelation Matrix for Ireland:\")\n",
    "print(ireland_corr)\n"
   ]
  },
  {
   "cell_type": "markdown",
   "id": "e1dea7ac",
   "metadata": {},
   "source": [
    "\n",
    "Interpretation:\n",
    "The Scotland dataset shows strong positive correlations between the mean number of vehicles licensed per year ('VALUE_x') and other variables such as 'Cars,' 'Light goods vehicles,' and 'Total.'\n",
    "The correlation coefficient between 'VALUE_x' and 'Cars' is 1.0, indicating a perfect positive correlation.\n",
    "In the Ireland dataset, the correlation coefficient between 'VALUE_x' and itself is 1.0, as expected.\n",
    "These correlation matrices provide insights into the relationships between variables in each dataset.\n",
    "\n",
    "We will use a heatmap to visualize the correlation matrix.\n",
    "\n",
    "The following code will generate a heatmap where each cell's color represents the strength and direction of the correlation between two variables. The annotation in each cell shows the correlation coefficient. Positive correlations are indicated by warmer colors, while negative correlations are indicated by cooler colors."
   ]
  },
  {
   "cell_type": "code",
   "execution_count": null,
   "id": "33c6c613",
   "metadata": {},
   "outputs": [],
   "source": [
    "import seaborn as sns\n",
    "import matplotlib.pyplot as plt\n",
    "\n",
    "# Set up the matplotlib figure\n",
    "plt.figure(figsize=(10, 8))\n",
    "\n",
    "# Plot the correlation matrix heatmap for Scotland\n",
    "sns.heatmap(scotland_data.corr(numeric_only=True), annot=True, cmap='coolwarm', fmt=\".2f\", linewidths=0.5)\n",
    "\n",
    "# Set the title of the plot\n",
    "plt.title('Correlation Matrix - Scotland')\n",
    "\n",
    "# Show the plot\n",
    "plt.show()\n",
    "\n"
   ]
  },
  {
   "cell_type": "code",
   "execution_count": null,
   "id": "0f7b69b5",
   "metadata": {},
   "outputs": [],
   "source": [
    "import seaborn as sns\n",
    "import matplotlib.pyplot as plt\n",
    "\n",
    "# Set up the matplotlib figure\n",
    "plt.figure(figsize=(6, 4))\n",
    "\n",
    "# Plot the correlation matrix heatmap for Ireland\n",
    "sns.heatmap(ireland_data.corr(numeric_only=True), annot=True, cmap='coolwarm', fmt=\".2f\", linewidths=0.5)\n",
    "\n",
    "# Set the title of the plot\n",
    "plt.title('Correlation Matrix - Ireland')\n",
    "\n",
    "# Show the plot\n",
    "plt.show()\n"
   ]
  },
  {
   "cell_type": "markdown",
   "id": "c5219f14",
   "metadata": {},
   "source": [
    "\n",
    "This code follows a similar structure to the one for Scotland. It sets up the figure, plots the correlation matrix heatmap using Seaborn, and displays the plot with a title."
   ]
  },
  {
   "cell_type": "markdown",
   "id": "95ffa4ed",
   "metadata": {},
   "source": [
    "# Further Analysis:"
   ]
  },
  {
   "cell_type": "markdown",
   "id": "dc15d1c4",
   "metadata": {},
   "source": [
    "Visualize the data: Create plots or charts to visualize the dataset's trends, patterns, or outliers.\n",
    "Explore relationships: Check if there are any correlations between variables.\n"
   ]
  },
  {
   "cell_type": "markdown",
   "id": "a25b00f0",
   "metadata": {},
   "source": [
    "Since we have already performed a t-test to compare the mean number of vehicles licensed per year between Ireland and Scotland, we will explore the relationship between the price and year; we can create scatter plots to visualize how the price changes over time. This will help us understand any trends or patterns in the data."
   ]
  },
  {
   "cell_type": "code",
   "execution_count": null,
   "id": "61154053",
   "metadata": {},
   "outputs": [],
   "source": [
    "import matplotlib.pyplot as plt\n",
    "import seaborn as sns\n",
    "\n",
    "# Scatter plot for Scotland\n",
    "plt.figure(figsize=(12, 6))\n",
    "sns.scatterplot(data=scotland_data, x='Date [note 2]', y='VALUE_x')\n",
    "plt.title('Scatter Plot of Price over Time in Scotland')\n",
    "plt.xlabel('Year')\n",
    "plt.ylabel('Price')\n",
    "plt.show()\n",
    "\n",
    "# Scatter plot for Ireland\n",
    "plt.figure(figsize=(12, 6))\n",
    "sns.scatterplot(data=ireland_data, x='Year', y='VALUE_x')\n",
    "plt.title('Scatter Plot of Price over Time in Ireland')\n",
    "plt.xlabel('Year')\n",
    "plt.ylabel('Price')\n",
    "plt.show()\n"
   ]
  },
  {
   "cell_type": "markdown",
   "id": "c3507e29",
   "metadata": {},
   "source": [
    "These scatter plots will show how the price changes over the years for both Scotland and Ireland. Each point on the plot represents a specific observation in the dataset, with the x-axis representing the year and the y-axis meaning the price.\n",
    "\n",
    "\n",
    "\n",
    "Let's interpret the scatter plots for both Scotland and Ireland:\n",
    "Scotland Scatter Plot:\n",
    "The scatter plot for Scotland shows the relationship between the price ('VALUE_x') and the year.\n",
    "Observations are scattered across the plot, indicating some variability in price over the years.\n",
    "There isn't a clear linear trend; however, further analysis, such as regression, could provide more insights.\n",
    "Ireland Scatter Plot:\n",
    "The scatter plot for Ireland displays the relationship between the price ('VALUE_x') and the year.\n",
    "Similar to Scotland, observations are scattered, suggesting variability in price over the years.\n",
    "There is a noticeable gap in the data, which might indicate missing values or a specific pattern in the data.\n",
    "In both cases, the scatter plots are a visual tool to explore the distribution and relationships within the data. "
   ]
  },
  {
   "cell_type": "markdown",
   "id": "bc0a0a14",
   "metadata": {},
   "source": [
    "Time-Series Analysis:"
   ]
  },
  {
   "cell_type": "code",
   "execution_count": null,
   "id": "ea501465",
   "metadata": {},
   "outputs": [],
   "source": [
    "import matplotlib.pyplot as plt\n",
    "import seaborn as sns\n",
    "\n",
    "# Line plot for Scotland\n",
    "plt.figure(figsize=(12, 6))\n",
    "sns.lineplot(x='Date [note 2]', y='VALUE_x', data=scotland_data, label='Scotland')\n",
    "plt.title('Total Number of Vehicles Licensed Over Time (Scotland)')\n",
    "plt.xlabel('Year')\n",
    "plt.ylabel('Total Number of Vehicles Licensed')\n",
    "plt.legend()\n",
    "plt.show()\n",
    "\n",
    "# Line plot for Ireland\n",
    "plt.figure(figsize=(12, 6))\n",
    "sns.lineplot(x='Year', y='VALUE_x', data=ireland_data, label='Ireland')\n",
    "plt.title('Total Number of Vehicles Licensed Over Time (Ireland)')\n",
    "plt.xlabel('Year')\n",
    "plt.ylabel('Total Number of Vehicles Licensed')\n",
    "plt.legend()\n",
    "plt.show()\n"
   ]
  },
  {
   "cell_type": "markdown",
   "id": "b287bfe5",
   "metadata": {},
   "source": [
    "\n",
    " Let's interpret the results of the time-series analysis:\n",
    "Scotland:\n",
    "The line plot for Scotland shows the total number of vehicles licensed over the years.\n",
    "There is a noticeable increasing trend in the total number of vehicles licensed from 2001 to 2005.\n",
    "After 2005, there was some fluctuation, and the total number decreased slightly around 2010 before picking up again.\n",
    "Ireland:\n",
    "The line plot for Ireland displays the total number of vehicles licensed over the years.\n",
    "Similar to Scotland, there is a general increasing trend, but there is a more pronounced peak around 2007.\n",
    "After 2007, there was a notable decrease in the number of vehicles licensed, indicating a change in vehicle licensing patterns.\n",
    "\n",
    "\n",
    "\n",
    "In this research, we will not include external factors or additional aspects of the data; we've covered the main steps in the analysis. Here's a summary of what we've done:\n",
    "Hypothesis Testing:\n",
    "We compared the mean number of vehicles licensed per year between Ireland and Scotland.\n",
    "Conducted a t-test, which indicated a significant difference in the mean number of vehicles licensed between the two countries.\n",
    "Exploring Relationships:\n",
    "Checked correlations between different vehicle types in Scotland and found strong positive correlations.\n",
    "Time-Series Analysis:\n",
    "Visualized trends over time in the total number of vehicles licensed for both Ireland and Scotland.\n"
   ]
  },
  {
   "cell_type": "markdown",
   "id": "71a8ea17",
   "metadata": {},
   "source": [
    "# Machine Learning:"
   ]
  },
  {
   "cell_type": "markdown",
   "id": "673bf370",
   "metadata": {},
   "source": [
    "Let's tailor the machine learning tasks specifically for the datasets related to Ireland and Scotland. We'll focus on predicting or classifying values for 'VALUE_x' in the context of Ireland and Scotland's transportation data."
   ]
  },
  {
   "cell_type": "markdown",
   "id": "055eb6ce",
   "metadata": {},
   "source": [
    "Choice of Machine Learning Models:\n",
    "\n",
    "\n",
    "Supervised Learning Model:\n",
    "Random Forest Regressor: Given the continuous nature of 'VALUE_x', we can use a regression model. Random Forest Regressor is a robust choice for predicting numerical values.\n",
    "\n",
    "\n",
    "Unsupervised Learning Model:\n",
    "K-Means Clustering: Although typically used for unsupervised tasks, we can use clustering for exploratory analysis and pattern recognition in the absence of a clear classification task."
   ]
  },
  {
   "cell_type": "markdown",
   "id": "03edfcfe",
   "metadata": {},
   "source": [
    "# Dataset Collection and Sentiment Analysis:"
   ]
  },
  {
   "cell_type": "markdown",
   "id": "c435953f",
   "metadata": {},
   "source": [
    "Since we are focusing on transportation data for Ireland and Scotland, we don't explicitly need sentiment analysis. Instead, we can concentrate on exploring the relationships between different vehicle types and the total number of licensed vehicles.\n",
    "\n",
    "\n",
    "\n",
    "Supervised Learning Model Training and Testing:\n",
    "Features: Use relevant features such as 'Cars', 'Motorcycles', 'Light goods vehicles', etc.\n",
    "Target Feature: 'VALUE_x'"
   ]
  },
  {
   "cell_type": "markdown",
   "id": "b6857ff5",
   "metadata": {},
   "source": [
    "# Let's start with the first task: Supervised Learning using a Random Forest Regressor "
   ]
  },
  {
   "cell_type": "code",
   "execution_count": null,
   "id": "38d6a1c4",
   "metadata": {},
   "outputs": [],
   "source": [
    "import pandas as pd\n",
    "import numpy as np\n",
    "\n",
    "combined_data = pd.read_csv(\"final.csv\", dtype={'VALUE_y': 'str'}, low_memory=False)\n",
    "\n",
    "\n",
    "combined_data['VALUE_y'] = pd.to_numeric(combined_data['VALUE_y'], errors='coerce')\n",
    "\n",
    "# Display the first few rows of the dataset\n",
    "print(combined_data.head())\n",
    "\n",
    "# Drop duplicate columns\n",
    "combined_data = combined_data.loc[:, ~combined_data.columns.duplicated()]\n",
    "\n",
    "# Select relevant features and target\n",
    "features = combined_data[['Year', 'Taxation Class', 'UNIT_x']]  \n",
    "target = combined_data['VALUE_x'].astype(float) \n",
    "\n",
    "# Convert categorical features to numerical using one-hot encoding\n",
    "features = pd.get_dummies(features)\n",
    "\n",
    "# Split the data into training and testing sets\n",
    "X_train, X_test, y_train, y_test = train_test_split(features, target, test_size=0.2, random_state=42)\n",
    "\n",
    "# Initialize the Random Forest Regressor\n",
    "rf_regressor = RandomForestRegressor()\n",
    "\n",
    "# Hyperparameter tuning using GridSearchCV\n",
    "param_grid = {\n",
    "    'n_estimators': [50, 100, 200],\n",
    "    'max_depth': [None, 10, 20],\n",
    "    'min_samples_split': [2, 5, 10],\n",
    "    'min_samples_leaf': [1, 2, 4]\n",
    "}\n",
    "\n",
    "grid_search = GridSearchCV(rf_regressor, param_grid, cv=5, scoring='neg_mean_absolute_error')\n",
    "grid_search.fit(X_train, y_train)\n",
    "\n",
    "# Get the best hyperparameters\n",
    "best_params = grid_search.best_params_\n",
    "\n",
    "# Train the Random Forest Regressor with the best hyperparameters\n",
    "best_rf_regressor = RandomForestRegressor(**best_params)\n",
    "best_rf_regressor.fit(X_train, y_train)\n",
    "\n",
    "# Predictions on the test set\n",
    "y_pred = best_rf_regressor.predict(X_test)\n",
    "\n",
    "# Model evaluation\n",
    "mae = mean_absolute_error(y_test, y_pred)\n",
    "mse = mean_squared_error(y_test, y_pred)\n",
    "r2 = r2_score(y_test, y_pred)\n",
    "\n",
    "# Display results\n",
    "print(\"Best Hyperparameters:\", best_params)\n",
    "print(\"Mean Absolute Error:\", mae)\n",
    "print(\"Mean Squared Error:\", mse)\n",
    "print(\"R2 Score:\", r2)\n",
    "\n"
   ]
  },
  {
   "cell_type": "markdown",
   "id": "35cb05a8",
   "metadata": {},
   "source": [
    "This dataset appears to contain vehicle statistics for 2019 in different regions, specifically in Co. Clare, Ireland, and Scotland. Let's break down the interpretation:\n",
    "Taxation Class:\n",
    "All Vehicles are considered, indicating a broad category encompassing various types.\n",
    "UNIT_x and VALUE_x:\n",
    "The units and values for the taxation class \"All Vehicles\" are specified as \"Number\" and 36,756, respectively.\n",
    "County:\n",
    "The data is related to Ireland.\n",
    "Type of Small Public Service Vehicle:\n",
    "All small public service vehicles are considered, with the unit as \"Number\" and a value of 338.\n",
    "UNIT_y and VALUE_y:\n",
    "The units and values for small public service vehicles are specified as \"Number\" and 338, respectively.\n",
    "Geography [note 1]:\n",
    "The geographical context for the small public service vehicles is in Scotland.\n",
    "Date Interval [note 2] and Date [note 2]:\n",
    "The data includes annual and quarterly intervals for the year 2019, with breakdowns for each quarter.\n",
    "Units:\n",
    "The units for the date intervals are specified as \"Thousands.\"\n",
    "Cars, Motorcycles, Light goods vehicles, Heavy goods vehicles, Buses and coaches, and Other vehicles [note 3]:\n",
    "Breakdown of the number of vehicles in different categories for each time interval.\n",
    "Total:\n",
    "The total number of vehicles for each time interval and category is provided.\n",
    "Country:\n",
    "The data is related to Ireland.\n",
    "In summary, the dataset gives a detailed breakdown of vehicle statistics for the year 2019, focusing on Co. Clare in Ireland and Scotland. It includes information on various types of vehicles, their quantities, and the quarterly and annual distribution of these vehicles."
   ]
  },
  {
   "cell_type": "markdown",
   "id": "4de38e10",
   "metadata": {},
   "source": [
    "# Data Splitting: Split the datasets for Ireland and Scotland into training and testing sets."
   ]
  },
  {
   "cell_type": "code",
   "execution_count": null,
   "id": "ee5ea91d",
   "metadata": {},
   "outputs": [],
   "source": [
    "\n",
    "ireland_data = combined_data[combined_data['Country'] == 'Ireland']\n",
    "scotland_data = combined_data[combined_data['Country'] == 'Scotland']\n",
    "\n",
    "# Features and target for Ireland\n",
    "ireland_features = ireland_data[['Year', 'Taxation Class', 'UNIT_x']]\n",
    "ireland_target = ireland_data['VALUE_x'].astype(float)\n",
    "\n",
    "# Features and target for Scotland\n",
    "scotland_features = scotland_data[['Year', 'Taxation Class', 'UNIT_x']]\n",
    "scotland_target = scotland_data['VALUE_x'].astype(float)\n",
    "\n",
    "# Split the data into training and testing sets for both Ireland and Scotland\n",
    "ireland_X_train, ireland_X_test, ireland_y_train, ireland_y_test = train_test_split(\n",
    "    ireland_features, ireland_target, test_size=0.2, random_state=42\n",
    ")\n",
    "\n",
    "scotland_X_train, scotland_X_test, scotland_y_train, scotland_y_test = train_test_split(\n",
    "    scotland_features, scotland_target, test_size=0.2, random_state=42\n",
    ")\n"
   ]
  },
  {
   "cell_type": "markdown",
   "id": "1ae83532",
   "metadata": {},
   "source": [
    "# Model Training: Train the Random Forest Regressor on the training set."
   ]
  },
  {
   "cell_type": "code",
   "execution_count": null,
   "id": "7aae1ad4",
   "metadata": {},
   "outputs": [],
   "source": [
    "# For Ireland\n",
    "# Initialize the Random Forest Regressor for Ireland\n",
    "ireland_rf_regressor = RandomForestRegressor()\n",
    "\n",
    "# Train the Random Forest Regressor for Ireland\n",
    "ireland_rf_regressor.fit(ireland_X_train, ireland_y_train)\n",
    "# Model Training: Train the Random Forest Regressor on the training set."
   ]
  },
  {
   "cell_type": "code",
   "execution_count": null,
   "id": "ada84307",
   "metadata": {},
   "outputs": [],
   "source": [
    "#Repeat the process for Scotland\n",
    "\n",
    "# Initialize the Random Forest Regressor for Scotland\n",
    "scotland_rf_regressor = RandomForestRegressor()\n",
    "\n",
    "# Train the Random Forest Regressor for Scotland\n",
    "scotland_rf_regressor.fit(scotland_X_train, scotland_y_train)"
   ]
  },
  {
   "cell_type": "markdown",
   "id": "006f477f",
   "metadata": {},
   "source": [
    "# Hyperparameter Tuning: Use GridSearchCV for hyperparameter tuning."
   ]
  },
  {
   "cell_type": "code",
   "execution_count": null,
   "id": "e1ae7848",
   "metadata": {},
   "outputs": [],
   "source": [
    "# Hyperparameter tuning using GridSearchCV for Ireland\n",
    "ireland_param_grid = {\n",
    "    'n_estimators': [50, 100, 200],\n",
    "    'max_depth': [None, 10, 20],\n",
    "    'min_samples_split': [2, 5, 10],\n",
    "    'min_samples_leaf': [1, 2, 4]\n",
    "}\n",
    "\n",
    "ireland_grid_search = GridSearchCV(\n",
    "    ireland_rf_regressor, ireland_param_grid, cv=5, scoring='neg_mean_absolute_error'\n",
    ")\n",
    "ireland_grid_search.fit(ireland_X_train, ireland_y_train)\n",
    "\n",
    "# Get the best hyperparameters for Ireland\n",
    "ireland_best_params = ireland_grid_search.best_params_\n",
    "\n",
    "# Train the Random Forest Regressor with the best hyperparameters for Ireland\n",
    "ireland_best_rf_regressor = RandomForestRegressor(**ireland_best_params)\n",
    "ireland_best_rf_regressor.fit(ireland_X_train, ireland_y_train)\n"
   ]
  },
  {
   "cell_type": "code",
   "execution_count": null,
   "id": "61db9f48",
   "metadata": {},
   "outputs": [],
   "source": [
    "# Hyperparameter tuning using GridSearchCV for Scotland\n",
    "scotland_param_grid = {\n",
    "    'n_estimators': [50, 100, 200],\n",
    "    'max_depth': [None, 10, 20],\n",
    "    'min_samples_split': [2, 5, 10],\n",
    "    'min_samples_leaf': [1, 2, 4]\n",
    "}\n",
    "\n",
    "scotland_grid_search = GridSearchCV(\n",
    "    scotland_rf_regressor, scotland_param_grid, cv=5, scoring='neg_mean_absolute_error'\n",
    ")\n",
    "scotland_grid_search.fit(scotland_X_train, scotland_y_train)\n",
    "\n",
    "# Get the best hyperparameters for Scotland\n",
    "scotland_best_params = scotland_grid_search.best_params_\n",
    "\n",
    "# Train the Random Forest Regressor with the best hyperparameters for Scotland\n",
    "scotland_best_rf_regressor = RandomForestRegressor(**scotland_best_params)\n",
    "scotland_best_rf_regressor.fit(scotland_X_train, scotland_y_train)\n",
    "\n"
   ]
  },
  {
   "cell_type": "markdown",
   "id": "deaa46b4",
   "metadata": {},
   "source": [
    "# Model Evaluation: Evaluate the model's performance on the testing set using metrics like Mean Absolute Error (MAE), Mean Squared Error (MSE), or R2 score."
   ]
  },
  {
   "cell_type": "code",
   "execution_count": null,
   "id": "b9f14747",
   "metadata": {},
   "outputs": [],
   "source": [
    "# Predictions on the test set for Ireland\n",
    "ireland_y_pred = ireland_best_rf_regressor.predict(ireland_X_test)\n",
    "\n",
    "# Model evaluation for Ireland\n",
    "ireland_mae = mean_absolute_error(ireland_y_test, ireland_y_pred)\n",
    "ireland_mse = mean_squared_error(ireland_y_test, ireland_y_pred)\n",
    "ireland_r2 = r2_score(ireland_y_test, ireland_y_pred)\n",
    "\n",
    "# Display results for Ireland\n",
    "print(\"Ireland - Best Hyperparameters:\", ireland_best_params)\n",
    "print(\"Ireland - Mean Absolute Error:\", ireland_mae)\n",
    "print(\"Ireland - Mean Squared Error:\", ireland_mse)\n",
    "print(\"Ireland - R2 Score:\", ireland_r2)\n"
   ]
  },
  {
   "cell_type": "code",
   "execution_count": null,
   "id": "3176e854",
   "metadata": {},
   "outputs": [],
   "source": [
    "#Scotland\n",
    "\n",
    "# Predictions on the test set for Scotland\n",
    "scotland_y_pred = scotland_best_rf_regressor.predict(scotland_X_test)\n",
    "\n",
    "# Model evaluation for Scotland\n",
    "scotland_mae = mean_absolute_error(scotland_y_test, scotland_y_pred)\n",
    "scotland_mse = mean_squared_error(scotland_y_test, scotland_y_pred)\n",
    "scotland_r2 = r2_score(scotland_y_test, scotland_y_pred)\n",
    "\n",
    "# Display results for Scotland\n",
    "print(\"Scotland - Best Hyperparameters:\", scotland_best_params)\n",
    "print(\"Scotland - Mean Absolute Error:\", scotland_mae)\n",
    "print(\"Scotland - Mean Squared Error:\", scotland_mse)\n",
    "print(\"Scotland - R2 Score:\", scotland_r2)\n"
   ]
  },
  {
   "cell_type": "markdown",
   "id": "d333fbe4",
   "metadata": {},
   "source": [
    "Now, we have trained and evaluated Random Forest Regressor models for predicting 'VALUE_x' in the context of Ireland and Scotland. "
   ]
  },
  {
   "cell_type": "markdown",
   "id": "d7bcbefa",
   "metadata": {},
   "source": [
    "Let's proceed with the next steps: Unsupervised Learning Model - K-Means Clustering. We'll use the K-Means algorithm to identify patterns and clusters within the data."
   ]
  },
  {
   "cell_type": "markdown",
   "id": "045e9245",
   "metadata": {},
   "source": [
    "Feature Selection: Use relevant features from the datasets."
   ]
  },
  {
   "cell_type": "code",
   "execution_count": null,
   "id": "45db3a06",
   "metadata": {},
   "outputs": [],
   "source": [
    "# Select relevant features for K-Means clustering\n",
    "kmeans_features = combined_data[['Year', 'Cars', 'Motorcycles', 'Light goods vehicles', 'Heavy goods vehicles', 'Buses and coaches']]\n"
   ]
  },
  {
   "cell_type": "markdown",
   "id": "cb0adb76",
   "metadata": {},
   "source": [
    "# Data Preprocessing: If needed, apply dimensionality reduction techniques."
   ]
  },
  {
   "cell_type": "markdown",
   "id": "1fcfce98",
   "metadata": {},
   "source": [
    "In this case, dimensionality reduction may not be necessary since we have a small number of features. However, we can standardize the data if there are significant differences in scale between features."
   ]
  },
  {
   "cell_type": "code",
   "execution_count": null,
   "id": "c2acd98c",
   "metadata": {},
   "outputs": [],
   "source": [
    "from sklearn.preprocessing import StandardScaler\n",
    "\n",
    "# Standardize the features\n",
    "scaler = StandardScaler()\n",
    "kmeans_features_standardized = scaler.fit_transform(kmeans_features)\n"
   ]
  },
  {
   "cell_type": "markdown",
   "id": "09180565",
   "metadata": {},
   "source": [
    "K-Means Clustering: Train the model to identify clusters."
   ]
  },
  {
   "cell_type": "code",
   "execution_count": null,
   "id": "c3487a17",
   "metadata": {},
   "outputs": [],
   "source": [
    "from sklearn.cluster import KMeans\n",
    "\n",
    "n_clusters = 3\n",
    "\n",
    "# Initialize the K-Means model\n",
    "kmeans_model = KMeans(n_clusters=n_clusters, random_state=42)\n",
    "\n",
    "# Fit the K-Means model to the standardized features\n",
    "kmeans_model.fit(kmeans_features_standardized)\n",
    "\n",
    "# Get cluster labels for each data point\n",
    "cluster_labels = kmeans_model.labels_\n"
   ]
  },
  {
   "cell_type": "markdown",
   "id": "c74f2c56",
   "metadata": {},
   "source": [
    "Evaluate Clusters: Analyze the resulting clusters and understand the patterns."
   ]
  },
  {
   "cell_type": "code",
   "execution_count": null,
   "id": "442f2674",
   "metadata": {},
   "outputs": [],
   "source": [
    "# Add the cluster labels to the original dataset\n",
    "combined_data['Cluster_Labels'] = cluster_labels\n",
    "\n",
    "# Display the cluster assignments for each data point\n",
    "print(combined_data[['Year', 'Cars', 'Motorcycles', 'Light goods vehicles', 'Heavy goods vehicles', 'Buses and coaches', 'Cluster_Labels']])\n"
   ]
  },
  {
   "cell_type": "markdown",
   "id": "61686fde",
   "metadata": {},
   "source": [
    "This shows us how each data point is assigned to a specific cluster based on the features."
   ]
  },
  {
   "cell_type": "markdown",
   "id": "f8967b58",
   "metadata": {},
   "source": [
    "Comparison and Discussion: Metrics: Use appropriate metrics for both supervised and unsupervised models."
   ]
  },
  {
   "cell_type": "markdown",
   "id": "fc3e176a",
   "metadata": {},
   "source": [
    "This shows us how each data point is assigned to a specific cluster based on the features.\n",
    "Comparison and Discussion: Metrics: Use appropriate metrics for supervised and unsupervised models.\n",
    "Since K-Means is an unsupervised learning method, no traditional evaluation metrics like supervised learning exist. Instead, we can visually inspect the clusters and analyze if they make sense in the data context.\n",
    "Table/Graphics: Present a table or graphics illustrating the similarities and contrasts between the two models' outcomes.\n",
    "We can create visualizations such as scatter plots or bar charts to compare the clusters identified by K-Means with the actual values of 'VALUE_x' in Ireland and Scotland.\n",
    "Discussion: Discuss the insights gained, the effectiveness of each model, and how well they address the scenario, considering the specific transportation-related context of Ireland and Scotland.\n",
    "Considering the patterns and insights obtained from the Random Forest Regressor and K-Means Clustering. Consider how well each model addresses the transportation-related context and whether the identified clusters align with our expectations."
   ]
  },
  {
   "cell_type": "markdown",
   "id": "2381195c",
   "metadata": {},
   "source": [
    "Let's go through the remaining steps and create some visualizations to compare the outcomes of the Random Forest Regressor and K-Means Clustering."
   ]
  },
  {
   "cell_type": "code",
   "execution_count": null,
   "id": "034573eb",
   "metadata": {},
   "outputs": [],
   "source": [
    "\n",
    "# Visualize Random Forest Predictions vs Actual Values for Ireland\n",
    "plt.figure(figsize=(10, 6))\n",
    "plt.scatter(ireland_y_test, ireland_y_pred, c='blue', label='Predictions')\n",
    "plt.plot([min(ireland_y_test), max(ireland_y_test)], [min(ireland_y_test), max(ireland_y_test)], linestyle='--', color='red', label='Actual')\n",
    "plt.title('Random Forest Predictions vs Actual Values - Ireland')\n",
    "plt.xlabel('Actual Values')\n",
    "plt.ylabel('Predicted Values')\n",
    "plt.legend()\n",
    "plt.show()\n",
    "\n",
    "# Visualize Random Forest Predictions vs Actual Values for Scotland\n",
    "plt.figure(figsize=(10, 6))\n",
    "plt.scatter(scotland_y_test, scotland_y_pred, c='green', label='Predictions')\n",
    "plt.plot([min(scotland_y_test), max(scotland_y_test)], [min(scotland_y_test), max(scotland_y_test)], linestyle='--', color='red', label='Actual')\n",
    "plt.title('Random Forest Predictions vs Actual Values - Scotland')\n",
    "plt.xlabel('Actual Values')\n",
    "plt.ylabel('Predicted Values')\n",
    "plt.legend()\n",
    "plt.show()\n",
    "\n",
    "# Visualize K-Means Clusters\n",
    "sns.pairplot(combined_data[['Year', 'Cars', 'Motorcycles', 'Light goods vehicles', 'Heavy goods vehicles', 'Buses and coaches', 'Cluster_Labels']], hue='Cluster_Labels', palette='viridis')\n",
    "plt.suptitle('K-Means Clusters')\n",
    "plt.show()\n"
   ]
  },
  {
   "cell_type": "code",
   "execution_count": null,
   "id": "9952b81e",
   "metadata": {},
   "outputs": [],
   "source": []
  },
  {
   "cell_type": "code",
   "execution_count": null,
   "id": "0960b4d4",
   "metadata": {},
   "outputs": [],
   "source": []
  },
  {
   "cell_type": "code",
   "execution_count": null,
   "id": "72b76a32",
   "metadata": {},
   "outputs": [],
   "source": []
  },
  {
   "cell_type": "code",
   "execution_count": null,
   "id": "59bebb15",
   "metadata": {},
   "outputs": [],
   "source": []
  },
  {
   "cell_type": "code",
   "execution_count": null,
   "id": "78c9e0f6",
   "metadata": {},
   "outputs": [],
   "source": []
  }
 ],
 "metadata": {
  "kernelspec": {
   "display_name": "Python 3 (ipykernel)",
   "language": "python",
   "name": "python3"
  },
  "language_info": {
   "codemirror_mode": {
    "name": "ipython",
    "version": 3
   },
   "file_extension": ".py",
   "mimetype": "text/x-python",
   "name": "python",
   "nbconvert_exporter": "python",
   "pygments_lexer": "ipython3",
   "version": "3.11.5"
  }
 },
 "nbformat": 4,
 "nbformat_minor": 5
}
